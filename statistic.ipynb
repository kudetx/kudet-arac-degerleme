{
 "cells": [
  {
   "cell_type": "markdown",
   "id": "24ede10c",
   "metadata": {},
   "source": [
    "#Verilerin istatistiksel Olarak İncelenmesi ve Aykırı Değerlerin Ayıklanması"
   ]
  },
  {
   "cell_type": "code",
   "execution_count": 54,
   "id": "f1d21479",
   "metadata": {},
   "outputs": [],
   "source": [
    "import pandas as pd\n",
    "import numpy as np\n",
    "import matplotlib.pyplot as plt"
   ]
  },
  {
   "cell_type": "code",
   "execution_count": 55,
   "id": "01209ba7",
   "metadata": {},
   "outputs": [],
   "source": [
    "# Read the .csv file into a DataFrame\n",
    "df = pd.read_csv(\"temizlenmis_arac_verisi.csv\")"
   ]
  },
  {
   "cell_type": "code",
   "execution_count": 56,
   "id": "1d5f4257",
   "metadata": {},
   "outputs": [
    {
     "name": "stdout",
     "output_type": "stream",
     "text": [
      "<class 'pandas.core.frame.DataFrame'>\n",
      "RangeIndex: 1551 entries, 0 to 1550\n",
      "Data columns (total 12 columns):\n",
      " #   Column       Non-Null Count  Dtype \n",
      "---  ------       --------------  ----- \n",
      " 0   model        1551 non-null   object\n",
      " 1   model_detay  1551 non-null   object\n",
      " 2   model_yili   1551 non-null   int64 \n",
      " 3   fiyat        1551 non-null   int64 \n",
      " 4   sehir        1551 non-null   object\n",
      " 5   ilce         1551 non-null   object\n",
      " 6   ilan_turu    1551 non-null   object\n",
      " 7   tip          1551 non-null   object\n",
      " 8   marka        1551 non-null   object\n",
      " 9   motor_hacmi  1551 non-null   object\n",
      " 10  motor_tipi   1551 non-null   object\n",
      " 11  donanim      1551 non-null   object\n",
      "dtypes: int64(2), object(10)\n",
      "memory usage: 145.5+ KB\n",
      "None\n"
     ]
    }
   ],
   "source": [
    "# Print DataFrame info to check data types and non-null counts\n",
    "print(df.info())     "
   ]
  },
  {
   "cell_type": "code",
   "execution_count": 57,
   "id": "ab6ca123",
   "metadata": {},
   "outputs": [],
   "source": [
    "# Convert selected columns to 'category' dtype to optimize memory usage and improve performance for categorical data\n",
    "df[\"sehir\"]        = df[\"sehir\"].astype(\"category\")\n",
    "df[\"ilce\"]         = df[\"ilce\"].astype(\"category\")\n",
    "df[\"ilan_turu\"]    = df[\"ilan_turu\"].astype(\"category\")\n",
    "df[\"tip\"]          = df[\"tip\"].astype(\"category\")\n",
    "df[\"marka\"]        = df[\"marka\"].astype(\"category\")\n",
    "df[\"motor_hacmi\"]  = df[\"motor_hacmi\"].astype(\"category\")\n",
    "df[\"motor_tipi\"]   = df[\"motor_tipi\"].astype(\"category\")\n",
    "df[\"donanim\"]      = df[\"donanim\"].astype(\"category\")\n"
   ]
  },
  {
   "cell_type": "code",
   "execution_count": 58,
   "id": "0d883915",
   "metadata": {},
   "outputs": [
    {
     "name": "stdout",
     "output_type": "stream",
     "text": [
      "<class 'pandas.core.frame.DataFrame'>\n",
      "RangeIndex: 1551 entries, 0 to 1550\n",
      "Data columns (total 12 columns):\n",
      " #   Column       Non-Null Count  Dtype   \n",
      "---  ------       --------------  -----   \n",
      " 0   model        1551 non-null   object  \n",
      " 1   model_detay  1551 non-null   object  \n",
      " 2   model_yili   1551 non-null   int64   \n",
      " 3   fiyat        1551 non-null   int64   \n",
      " 4   sehir        1551 non-null   category\n",
      " 5   ilce         1551 non-null   category\n",
      " 6   ilan_turu    1551 non-null   category\n",
      " 7   tip          1551 non-null   category\n",
      " 8   marka        1551 non-null   category\n",
      " 9   motor_hacmi  1551 non-null   category\n",
      " 10  motor_tipi   1551 non-null   category\n",
      " 11  donanim      1551 non-null   category\n",
      "dtypes: category(8), int64(2), object(2)\n",
      "memory usage: 97.8+ KB\n",
      "None\n"
     ]
    }
   ],
   "source": [
    "print((df.info()))"
   ]
  },
  {
   "cell_type": "code",
   "execution_count": 59,
   "id": "93d9c0ae",
   "metadata": {},
   "outputs": [
    {
     "name": "stdout",
     "output_type": "stream",
     "text": [
      "model          0\n",
      "model_detay    0\n",
      "model_yili     0\n",
      "fiyat          0\n",
      "sehir          0\n",
      "ilce           0\n",
      "ilan_turu      0\n",
      "tip            0\n",
      "marka          0\n",
      "motor_hacmi    0\n",
      "motor_tipi     0\n",
      "donanim        0\n",
      "dtype: int64\n"
     ]
    }
   ],
   "source": [
    "# Print the number of missing values in each column\n",
    "print(df.isnull().sum())"
   ]
  },
  {
   "cell_type": "code",
   "execution_count": 60,
   "id": "09267067",
   "metadata": {},
   "outputs": [
    {
     "name": "stdout",
     "output_type": "stream",
     "text": [
      "📊 Column: model_yili, Min threshold: 1997.50, Max threshold: 2033.50\n",
      "📊 Column: fiyat, Min threshold: -505625.00, Max threshold: 2267375.00\n"
     ]
    }
   ],
   "source": [
    "# Convert 'fiyat' negative values to positive (if any)\n",
    "df[\"fiyat\"] = df[\"fiyat\"].abs()\n",
    "\n",
    "# Select only numeric columns for outlier detection\n",
    "columns = df.select_dtypes(include=[np.number]).columns\n",
    "\n",
    "# Calculate IQR thresholds for each numeric column based on IQR\n",
    "min_values = []\n",
    "max_values = []\n",
    "# Print the min and max values for each numeric column based on IQR\n",
    "for column in columns:\n",
    "    Q1 = df[column].quantile(0.25)\n",
    "    Q3 = df[column].quantile(0.75)\n",
    "    IQR = Q3 - Q1\n",
    "    min_value = Q1 - 1.5 * IQR\n",
    "    max_value = Q3 + 1.5 * IQR\n",
    "    min_values.append(min_value)\n",
    "    max_values.append(max_value)\n",
    "    print(f\"📊 Column: {column}, Min threshold: {min_value:.2f}, Max threshold: {max_value:.2f}\")\n"
   ]
  },
  {
   "cell_type": "markdown",
   "id": "8af2f8ee",
   "metadata": {},
   "source": [
    "#Aykırı Değerlerin temizlenmesi"
   ]
  },
  {
   "cell_type": "code",
   "execution_count": 61,
   "id": "7aec7858",
   "metadata": {},
   "outputs": [],
   "source": [
    "# Remove outliers based on the calculated IQR thresholds\n",
    "for i, column in enumerate(columns):\n",
    "    df = df[(df[column] >= min_values[i]) & (df[column] <= max_values[i])]"
   ]
  },
  {
   "cell_type": "code",
   "execution_count": 62,
   "id": "bdc2262b",
   "metadata": {},
   "outputs": [
    {
     "name": "stdout",
     "output_type": "stream",
     "text": [
      "model_yili: 0 outlier(s) remain.\n",
      "fiyat: 17 outlier(s) remain.\n"
     ]
    }
   ],
   "source": [
    "# Check for remaining outliers after cleaning\n",
    "for column in columns:\n",
    "    Q1 = df[column].quantile(0.25)\n",
    "    Q3 = df[column].quantile(0.75)\n",
    "    IQR = Q3 - Q1\n",
    "    lower = Q1 - 1.5 * IQR\n",
    "    upper = Q3 + 1.5 * IQR\n",
    "    outliers = df[(df[column] < lower) | (df[column] > upper)]\n",
    "    print(f\"{column}: {len(outliers)} outlier(s) remain.\")"
   ]
  },
  {
   "cell_type": "code",
   "execution_count": 63,
   "id": "d1058ecb",
   "metadata": {},
   "outputs": [
    {
     "name": "stdout",
     "output_type": "stream",
     "text": [
      "fiyat: 6 outlier(s) remain.\n"
     ]
    }
   ],
   "source": [
    "# Clear only 'fiyat' column for further outlier detection\n",
    "Q1 = df['fiyat'].quantile(0.25)\n",
    "Q3 = df['fiyat'].quantile(0.75)\n",
    "IQR = Q3 - Q1\n",
    "lower = Q1 - 1.5 * IQR\n",
    "upper = Q3 + 1.5 * IQR\n",
    "df = df[(df['fiyat'] >= lower) & (df['fiyat'] <= upper)]\n",
    "\n",
    "# Check for remaining outliers in 'fiyat' column\n",
    "Q1 = df['fiyat'].quantile(0.25)\n",
    "Q3 = df['fiyat'].quantile(0.75)\n",
    "IQR = Q3 - Q1\n",
    "lower = Q1 - 1.5 * IQR\n",
    "upper = Q3 + 1.5 * IQR\n",
    "outliers = df[(df['fiyat'] < lower) | (df['fiyat'] > upper)]\n",
    "print(f\"fiyat: {len(outliers)} outlier(s) remain.\")"
   ]
  },
  {
   "cell_type": "code",
   "execution_count": 64,
   "id": "e9875aef",
   "metadata": {},
   "outputs": [
    {
     "name": "stdout",
     "output_type": "stream",
     "text": [
      "fiyat: 0 outlier(s) remain.\n"
     ]
    }
   ],
   "source": [
    "# Clear only 'fiyat' column for further outlier detection\n",
    "Q1 = df['fiyat'].quantile(0.25)\n",
    "Q3 = df['fiyat'].quantile(0.75)\n",
    "IQR = Q3 - Q1\n",
    "lower = Q1 - 1.5 * IQR\n",
    "upper = Q3 + 1.5 * IQR\n",
    "df = df[(df['fiyat'] >= lower) & (df['fiyat'] <= upper)]\n",
    "\n",
    "# Check for remaining outliers in 'fiyat' column\n",
    "Q1 = df['fiyat'].quantile(0.25)\n",
    "Q3 = df['fiyat'].quantile(0.75)\n",
    "IQR = Q3 - Q1\n",
    "lower = Q1 - 1.5 * IQR\n",
    "upper = Q3 + 1.5 * IQR\n",
    "outliers = df[(df['fiyat'] < lower) | (df['fiyat'] > upper)]\n",
    "print(f\"fiyat: {len(outliers)} outlier(s) remain.\")"
   ]
  },
  {
   "cell_type": "code",
   "execution_count": 65,
   "id": "fbdc80c2",
   "metadata": {},
   "outputs": [
    {
     "name": "stdout",
     "output_type": "stream",
     "text": [
      "<class 'pandas.core.frame.DataFrame'>\n",
      "Index: 1396 entries, 0 to 1550\n",
      "Data columns (total 12 columns):\n",
      " #   Column       Non-Null Count  Dtype   \n",
      "---  ------       --------------  -----   \n",
      " 0   model        1396 non-null   object  \n",
      " 1   model_detay  1396 non-null   object  \n",
      " 2   model_yili   1396 non-null   int64   \n",
      " 3   fiyat        1396 non-null   int64   \n",
      " 4   sehir        1396 non-null   category\n",
      " 5   ilce         1396 non-null   category\n",
      " 6   ilan_turu    1396 non-null   category\n",
      " 7   tip          1396 non-null   category\n",
      " 8   marka        1396 non-null   category\n",
      " 9   motor_hacmi  1396 non-null   category\n",
      " 10  motor_tipi   1396 non-null   category\n",
      " 11  donanim      1396 non-null   category\n",
      "dtypes: category(8), int64(2), object(2)\n",
      "memory usage: 101.9+ KB\n",
      "None\n"
     ]
    }
   ],
   "source": [
    "print(df.info())"
   ]
  },
  {
   "cell_type": "code",
   "execution_count": 66,
   "id": "070526f5",
   "metadata": {},
   "outputs": [
    {
     "name": "stdout",
     "output_type": "stream",
     "text": [
      "                              model  \\\n",
      "count                          1396   \n",
      "unique                          611   \n",
      "top     Fiat Egea 1.3 Multijet Easy   \n",
      "freq                             21   \n",
      "mean                            NaN   \n",
      "std                             NaN   \n",
      "min                             NaN   \n",
      "25%                             NaN   \n",
      "50%                             NaN   \n",
      "75%                             NaN   \n",
      "max                             NaN   \n",
      "\n",
      "                                           model_detay   model_yili  \\\n",
      "count                                             1396  1396.000000   \n",
      "unique                                             871          NaN   \n",
      "top     OSCAR'dan DÜŞÜK KM DEĞİŞENSİZ TİGUAN 4 EMİTİON          NaN   \n",
      "freq                                                 9          NaN   \n",
      "mean                                               NaN  2014.760029   \n",
      "std                                                NaN     5.989274   \n",
      "min                                                NaN  1998.000000   \n",
      "25%                                                NaN  2011.000000   \n",
      "50%                                                NaN  2015.000000   \n",
      "75%                                                NaN  2020.000000   \n",
      "max                                                NaN  2025.000000   \n",
      "\n",
      "               fiyat     sehir    ilce  ilan_turu      tip marka motor_hacmi  \\\n",
      "count   1.396000e+03      1396    1396       1396     1396  1396        1396   \n",
      "unique           NaN        66     209          2        1    47         110   \n",
      "top              NaN  İstanbul  Merkez  galeriden  satilik  fiat         1.6   \n",
      "freq             NaN       231     155       1242     1396   206         289   \n",
      "mean    8.642316e+05       NaN     NaN        NaN      NaN   NaN         NaN   \n",
      "std     4.186340e+05       NaN     NaN        NaN      NaN   NaN         NaN   \n",
      "min     1.150000e+05       NaN     NaN        NaN      NaN   NaN         NaN   \n",
      "25%     5.437500e+05       NaN     NaN        NaN      NaN   NaN         NaN   \n",
      "50%     7.890000e+05       NaN     NaN        NaN      NaN   NaN         NaN   \n",
      "75%     1.150000e+06       NaN     NaN        NaN      NaN   NaN         NaN   \n",
      "max     2.050000e+06       NaN     NaN        NaN      NaN   NaN         NaN   \n",
      "\n",
      "       motor_tipi     donanim  \n",
      "count        1396        1396  \n",
      "unique        131         175  \n",
      "top           tdi  bilinmiyor  \n",
      "freq          124         260  \n",
      "mean          NaN         NaN  \n",
      "std           NaN         NaN  \n",
      "min           NaN         NaN  \n",
      "25%           NaN         NaN  \n",
      "50%           NaN         NaN  \n",
      "75%           NaN         NaN  \n",
      "max           NaN         NaN  \n"
     ]
    }
   ],
   "source": [
    "pd.set_option(\"display.max_columns\", None)\n",
    "\n",
    "# Show descriptive statistics for all columns(including categorical columns)\n",
    "print(df.describe(include='all')) \n"
   ]
  },
  {
   "cell_type": "code",
   "execution_count": 67,
   "id": "0f2365ff",
   "metadata": {},
   "outputs": [],
   "source": [
    "# Save the cleaned DataFrame to a new CSV file (statistically cleaned)\n",
    "df.to_csv(\"cleaned_data.csv\", index=False)"
   ]
  }
 ],
 "metadata": {
  "kernelspec": {
   "display_name": "Python 3",
   "language": "python",
   "name": "python3"
  },
  "language_info": {
   "codemirror_mode": {
    "name": "ipython",
    "version": 3
   },
   "file_extension": ".py",
   "mimetype": "text/x-python",
   "name": "python",
   "nbconvert_exporter": "python",
   "pygments_lexer": "ipython3",
   "version": "3.8.7"
  }
 },
 "nbformat": 4,
 "nbformat_minor": 5
}
