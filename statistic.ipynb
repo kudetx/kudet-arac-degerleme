{
 "cells": [
  {
   "cell_type": "markdown",
   "id": "24ede10c",
   "metadata": {},
   "source": [
    "#Verilerin istatistiksel Olarak İncelenmesi ve Aykırı Değerlerin Ayıklanması"
   ]
  },
  {
   "cell_type": "code",
   "execution_count": 138,
   "id": "f1d21479",
   "metadata": {},
   "outputs": [],
   "source": [
    "import pandas as pd\n",
    "import numpy as np\n",
    "import matplotlib.pyplot as plt"
   ]
  },
  {
   "cell_type": "code",
   "execution_count": 139,
   "id": "01209ba7",
   "metadata": {},
   "outputs": [],
   "source": [
    "df = pd.read_csv(\"temizlenmis_arac_verisi.csv\")"
   ]
  },
  {
   "cell_type": "code",
   "execution_count": 140,
   "id": "1d5f4257",
   "metadata": {},
   "outputs": [
    {
     "name": "stdout",
     "output_type": "stream",
     "text": [
      "<class 'pandas.core.frame.DataFrame'>\n",
      "RangeIndex: 1551 entries, 0 to 1550\n",
      "Data columns (total 12 columns):\n",
      " #   Column       Non-Null Count  Dtype \n",
      "---  ------       --------------  ----- \n",
      " 0   model        1551 non-null   object\n",
      " 1   model_detay  1551 non-null   object\n",
      " 2   model_yili   1551 non-null   int64 \n",
      " 3   fiyat        1551 non-null   int64 \n",
      " 4   sehir        1551 non-null   object\n",
      " 5   ilce         1551 non-null   object\n",
      " 6   ilan_turu    1551 non-null   object\n",
      " 7   tip          1551 non-null   object\n",
      " 8   marka        1551 non-null   object\n",
      " 9   motor_hacmi  1551 non-null   object\n",
      " 10  motor_tipi   1551 non-null   object\n",
      " 11  donanim      1551 non-null   object\n",
      "dtypes: int64(2), object(10)\n",
      "memory usage: 145.5+ KB\n",
      "None\n"
     ]
    }
   ],
   "source": [
    "print(df.info())     "
   ]
  },
  {
   "cell_type": "code",
   "execution_count": 141,
   "id": "ab6ca123",
   "metadata": {},
   "outputs": [],
   "source": [
    "df[\"sehir\"]        = df[\"sehir\"].astype(\"category\")\n",
    "df[\"ilce\"]         = df[\"ilce\"].astype(\"category\")\n",
    "df[\"ilan_turu\"]    = df[\"ilan_turu\"].astype(\"category\")\n",
    "df[\"tip\"]          = df[\"tip\"].astype(\"category\")\n",
    "df[\"marka\"]        = df[\"marka\"].astype(\"category\")\n",
    "df[\"motor_hacmi\"]  = df[\"motor_hacmi\"].astype(\"category\")\n",
    "df[\"motor_tipi\"]   = df[\"motor_tipi\"].astype(\"category\")\n",
    "df[\"donanim\"]      = df[\"donanim\"].astype(\"category\")\n"
   ]
  },
  {
   "cell_type": "code",
   "execution_count": 142,
   "id": "0d883915",
   "metadata": {},
   "outputs": [
    {
     "name": "stdout",
     "output_type": "stream",
     "text": [
      "<class 'pandas.core.frame.DataFrame'>\n",
      "RangeIndex: 1551 entries, 0 to 1550\n",
      "Data columns (total 12 columns):\n",
      " #   Column       Non-Null Count  Dtype   \n",
      "---  ------       --------------  -----   \n",
      " 0   model        1551 non-null   object  \n",
      " 1   model_detay  1551 non-null   object  \n",
      " 2   model_yili   1551 non-null   int64   \n",
      " 3   fiyat        1551 non-null   int64   \n",
      " 4   sehir        1551 non-null   category\n",
      " 5   ilce         1551 non-null   category\n",
      " 6   ilan_turu    1551 non-null   category\n",
      " 7   tip          1551 non-null   category\n",
      " 8   marka        1551 non-null   category\n",
      " 9   motor_hacmi  1551 non-null   category\n",
      " 10  motor_tipi   1551 non-null   category\n",
      " 11  donanim      1551 non-null   category\n",
      "dtypes: category(8), int64(2), object(2)\n",
      "memory usage: 97.8+ KB\n",
      "None\n"
     ]
    }
   ],
   "source": [
    "print((df.info()))"
   ]
  },
  {
   "cell_type": "code",
   "execution_count": 143,
   "id": "93d9c0ae",
   "metadata": {},
   "outputs": [
    {
     "name": "stdout",
     "output_type": "stream",
     "text": [
      "model          0\n",
      "model_detay    0\n",
      "model_yili     0\n",
      "fiyat          0\n",
      "sehir          0\n",
      "ilce           0\n",
      "ilan_turu      0\n",
      "tip            0\n",
      "marka          0\n",
      "motor_hacmi    0\n",
      "motor_tipi     0\n",
      "donanim        0\n",
      "dtype: int64\n"
     ]
    }
   ],
   "source": [
    "print(df.isnull().sum())"
   ]
  },
  {
   "cell_type": "code",
   "execution_count": 144,
   "id": "09267067",
   "metadata": {},
   "outputs": [
    {
     "name": "stdout",
     "output_type": "stream",
     "text": [
      "📊 Sütun: model_yili, Min sınır: 1997.50, Max sınır: 2033.50\n",
      "📊 Sütun: fiyat, Min sınır: -505625.00, Max sınır: 2267375.00\n"
     ]
    }
   ],
   "source": [
    "# 1. Negatif fiyatları pozitife çevir\n",
    "df[\"fiyat\"] = df[\"fiyat\"].abs()\n",
    "\n",
    "# 2. Sadece sayısal sütunları seç\n",
    "columns = df.select_dtypes(include=[np.number]).columns\n",
    "\n",
    "# 3. Min/max sınırlarını hesapla (IQR yöntemi)\n",
    "min_values = []\n",
    "max_values = []\n",
    "\n",
    "for column in columns:\n",
    "    Q1 = df[column].quantile(0.25)\n",
    "    Q3 = df[column].quantile(0.75)\n",
    "    IQR = Q3 - Q1\n",
    "    min_value = Q1 - 1.5 * IQR\n",
    "    max_value = Q3 + 1.5 * IQR\n",
    "    min_values.append(min_value)\n",
    "    max_values.append(max_value)\n",
    "    print(f\"📊 Sütun: {column}, Min sınır: {min_value:.2f}, Max sınır: {max_value:.2f}\")\n"
   ]
  },
  {
   "cell_type": "markdown",
   "id": "8af2f8ee",
   "metadata": {},
   "source": [
    "#Aykırı Değerlerin temizlenmesi"
   ]
  },
  {
   "cell_type": "code",
   "execution_count": 145,
   "id": "7aec7858",
   "metadata": {},
   "outputs": [],
   "source": [
    "for i, column in enumerate(columns):\n",
    "    df = df[(df[column] >= min_values[i]) & (df[column] <= max_values[i])]\n"
   ]
  },
  {
   "cell_type": "code",
   "execution_count": 146,
   "id": "fbdc80c2",
   "metadata": {},
   "outputs": [
    {
     "name": "stdout",
     "output_type": "stream",
     "text": [
      "<class 'pandas.core.frame.DataFrame'>\n",
      "Index: 1419 entries, 0 to 1550\n",
      "Data columns (total 12 columns):\n",
      " #   Column       Non-Null Count  Dtype   \n",
      "---  ------       --------------  -----   \n",
      " 0   model        1419 non-null   object  \n",
      " 1   model_detay  1419 non-null   object  \n",
      " 2   model_yili   1419 non-null   int64   \n",
      " 3   fiyat        1419 non-null   int64   \n",
      " 4   sehir        1419 non-null   category\n",
      " 5   ilce         1419 non-null   category\n",
      " 6   ilan_turu    1419 non-null   category\n",
      " 7   tip          1419 non-null   category\n",
      " 8   marka        1419 non-null   category\n",
      " 9   motor_hacmi  1419 non-null   category\n",
      " 10  motor_tipi   1419 non-null   category\n",
      " 11  donanim      1419 non-null   category\n",
      "dtypes: category(8), int64(2), object(2)\n",
      "memory usage: 103.1+ KB\n",
      "None\n"
     ]
    }
   ],
   "source": [
    "print(df.info())"
   ]
  },
  {
   "cell_type": "code",
   "execution_count": 147,
   "id": "070526f5",
   "metadata": {},
   "outputs": [
    {
     "name": "stdout",
     "output_type": "stream",
     "text": [
      "                              model  \\\n",
      "count                          1419   \n",
      "unique                          622   \n",
      "top     Fiat Egea 1.3 Multijet Easy   \n",
      "freq                             21   \n",
      "mean                            NaN   \n",
      "std                             NaN   \n",
      "min                             NaN   \n",
      "25%                             NaN   \n",
      "50%                             NaN   \n",
      "75%                             NaN   \n",
      "max                             NaN   \n",
      "\n",
      "                                           model_detay   model_yili  \\\n",
      "count                                             1419  1419.000000   \n",
      "unique                                             884          NaN   \n",
      "top     OSCAR'dan DÜŞÜK KM DEĞİŞENSİZ TİGUAN 4 EMİTİON          NaN   \n",
      "freq                                                 9          NaN   \n",
      "mean                                               NaN  2014.846371   \n",
      "std                                                NaN     6.001675   \n",
      "min                                                NaN  1998.000000   \n",
      "25%                                                NaN  2011.000000   \n",
      "50%                                                NaN  2015.000000   \n",
      "75%                                                NaN  2020.000000   \n",
      "max                                                NaN  2025.000000   \n",
      "\n",
      "               fiyat     sehir    ilce  ilan_turu      tip marka motor_hacmi  \\\n",
      "count   1.419000e+03      1419    1419       1419     1419  1419        1419   \n",
      "unique           NaN        67     211          2        1    48         115   \n",
      "top              NaN  İstanbul  Merkez  galeriden  satilik  fiat         1.6   \n",
      "freq             NaN       237     161       1255     1419   206         292   \n",
      "mean    8.856733e+05       NaN     NaN        NaN      NaN   NaN         NaN   \n",
      "std     4.476656e+05       NaN     NaN        NaN      NaN   NaN         NaN   \n",
      "min     1.150000e+05       NaN     NaN        NaN      NaN   NaN         NaN   \n",
      "25%     5.450000e+05       NaN     NaN        NaN      NaN   NaN         NaN   \n",
      "50%     7.990000e+05       NaN     NaN        NaN      NaN   NaN         NaN   \n",
      "75%     1.175000e+06       NaN     NaN        NaN      NaN   NaN         NaN   \n",
      "max     2.260000e+06       NaN     NaN        NaN      NaN   NaN         NaN   \n",
      "\n",
      "       motor_tipi     donanim  \n",
      "count        1419        1419  \n",
      "unique        134         178  \n",
      "top           tdi  bilinmiyor  \n",
      "freq          128         265  \n",
      "mean          NaN         NaN  \n",
      "std           NaN         NaN  \n",
      "min           NaN         NaN  \n",
      "25%           NaN         NaN  \n",
      "50%           NaN         NaN  \n",
      "75%           NaN         NaN  \n",
      "max           NaN         NaN  \n"
     ]
    }
   ],
   "source": [
    "pd.set_option(\"display.max_columns\", None)\n",
    "\n",
    "# Ardından:\n",
    "print(df.describe(include='all'))  # veya sadece df.describe()\n"
   ]
  },
  {
   "cell_type": "code",
   "execution_count": 148,
   "id": "0f2365ff",
   "metadata": {},
   "outputs": [],
   "source": [
    "df.to_csv(\"cleaned_data.csv\", index=False)"
   ]
  }
 ],
 "metadata": {
  "kernelspec": {
   "display_name": "Python 3",
   "language": "python",
   "name": "python3"
  },
  "language_info": {
   "codemirror_mode": {
    "name": "ipython",
    "version": 3
   },
   "file_extension": ".py",
   "mimetype": "text/x-python",
   "name": "python",
   "nbconvert_exporter": "python",
   "pygments_lexer": "ipython3",
   "version": "3.8.7"
  }
 },
 "nbformat": 4,
 "nbformat_minor": 5
}
