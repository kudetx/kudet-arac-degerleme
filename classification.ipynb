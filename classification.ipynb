{
 "cells": [
  {
   "cell_type": "markdown",
   "id": "08f57b72",
   "metadata": {},
   "source": [
    "#Verilerin Sınıflandırma  İle tahmin edilmesi"
   ]
  },
  {
   "cell_type": "code",
   "execution_count": 131,
   "id": "2931f7dc",
   "metadata": {},
   "outputs": [],
   "source": [
    "import numpy as np\n",
    "import pandas as pd \n",
    "import matplotlib.pyplot as plt\n",
    "import seaborn as sns\n",
    "from sklearn.model_selection import train_test_split \n",
    "from sklearn.pipeline import Pipeline\n",
    "from sklearn.preprocessing import StandardScaler, OneHotEncoder\n",
    "from sklearn.compose import ColumnTransformer\n",
    "from sklearn.ensemble import RandomForestClassifier\n",
    "from sklearn.metrics import classification_report, confusion_matrix\n"
   ]
  },
  {
   "cell_type": "code",
   "execution_count": 132,
   "id": "9d18295b",
   "metadata": {},
   "outputs": [],
   "source": [
    "df = pd.read_csv(\"cleaned_data.csv\")"
   ]
  },
  {
   "cell_type": "code",
   "execution_count": 133,
   "id": "51a89796",
   "metadata": {},
   "outputs": [
    {
     "name": "stdout",
     "output_type": "stream",
     "text": [
      "<class 'pandas.core.frame.DataFrame'>\n",
      "RangeIndex: 1419 entries, 0 to 1418\n",
      "Data columns (total 12 columns):\n",
      " #   Column       Non-Null Count  Dtype \n",
      "---  ------       --------------  ----- \n",
      " 0   model        1419 non-null   object\n",
      " 1   model_detay  1419 non-null   object\n",
      " 2   model_yili   1419 non-null   int64 \n",
      " 3   fiyat        1419 non-null   int64 \n",
      " 4   sehir        1419 non-null   object\n",
      " 5   ilce         1419 non-null   object\n",
      " 6   ilan_turu    1419 non-null   object\n",
      " 7   tip          1419 non-null   object\n",
      " 8   marka        1419 non-null   object\n",
      " 9   motor_hacmi  1419 non-null   object\n",
      " 10  motor_tipi   1419 non-null   object\n",
      " 11  donanim      1419 non-null   object\n",
      "dtypes: int64(2), object(10)\n",
      "memory usage: 133.2+ KB\n",
      "None\n"
     ]
    }
   ],
   "source": [
    "print((df.info()))"
   ]
  },
  {
   "cell_type": "code",
   "execution_count": 134,
   "id": "c9091b13",
   "metadata": {},
   "outputs": [],
   "source": [
    "df[\"model\"]        = df[\"model\"].astype(\"category\")\n",
    "df[\"model_detay\"]  = df[\"model_detay\"].astype(\"category\")\n",
    "df[\"sehir\"]        = df[\"sehir\"].astype(\"category\")\n",
    "df[\"ilce\"]         = df[\"ilce\"].astype(\"category\")\n",
    "df[\"ilan_turu\"]    = df[\"ilan_turu\"].astype(\"category\")\n",
    "df[\"tip\"]          = df[\"tip\"].astype(\"category\")\n",
    "df[\"marka\"]        = df[\"marka\"].astype(\"category\")\n",
    "df[\"motor_hacmi\"]  = df[\"motor_hacmi\"].astype(\"category\")\n",
    "df[\"motor_tipi\"]   = df[\"motor_tipi\"].astype(\"category\")\n",
    "df[\"donanim\"]      = df[\"donanim\"].astype(\"category\")"
   ]
  },
  {
   "cell_type": "code",
   "execution_count": 135,
   "id": "2b6f683a",
   "metadata": {},
   "outputs": [
    {
     "name": "stdout",
     "output_type": "stream",
     "text": [
      "<class 'pandas.core.frame.DataFrame'>\n",
      "RangeIndex: 1419 entries, 0 to 1418\n",
      "Data columns (total 12 columns):\n",
      " #   Column       Non-Null Count  Dtype   \n",
      "---  ------       --------------  -----   \n",
      " 0   model        1419 non-null   category\n",
      " 1   model_detay  1419 non-null   category\n",
      " 2   model_yili   1419 non-null   int64   \n",
      " 3   fiyat        1419 non-null   int64   \n",
      " 4   sehir        1419 non-null   category\n",
      " 5   ilce         1419 non-null   category\n",
      " 6   ilan_turu    1419 non-null   category\n",
      " 7   tip          1419 non-null   category\n",
      " 8   marka        1419 non-null   category\n",
      " 9   motor_hacmi  1419 non-null   category\n",
      " 10  motor_tipi   1419 non-null   category\n",
      " 11  donanim      1419 non-null   category\n",
      "dtypes: category(10), int64(2)\n",
      "memory usage: 132.8 KB\n",
      "None\n"
     ]
    }
   ],
   "source": [
    "print((df.info()))"
   ]
  },
  {
   "cell_type": "code",
   "execution_count": 136,
   "id": "c184d05e",
   "metadata": {},
   "outputs": [],
   "source": [
    "categorical_features = [\n",
    "    'model',\n",
    "    'model_detay',\n",
    "    'sehir',\n",
    "    'ilce',\n",
    "    'ilan_turu',\n",
    "    'tip',\n",
    "    'marka',\n",
    "    'motor_hacmi',\n",
    "    'motor_tipi',\n",
    "    'donanim'\n",
    "]\n",
    "numerical_features = [\n",
    "    'model_yili',\n",
    "]"
   ]
  },
  {
   "cell_type": "code",
   "execution_count": 137,
   "id": "d8e69568",
   "metadata": {},
   "outputs": [],
   "source": [
    "full_pipeline = ColumnTransformer([\n",
    "    ('num', StandardScaler(), numerical_features),\n",
    "    ('cat', OneHotEncoder(handle_unknown='ignore'), categorical_features)\n",
    "])"
   ]
  },
  {
   "cell_type": "code",
   "execution_count": 138,
   "id": "4a7771f2",
   "metadata": {},
   "outputs": [],
   "source": [
    "X = df.drop('fiyat', axis=1) \n",
    "y = df['fiyat']"
   ]
  },
  {
   "cell_type": "code",
   "execution_count": 139,
   "id": "78051383",
   "metadata": {},
   "outputs": [
    {
     "name": "stdout",
     "output_type": "stream",
     "text": [
      "[0, 500000, 750000, 1000000, 1250000, 1500000, 2000000, 2260000]\n",
      "[1, 2, 3, 4, 5, 6, 7]\n"
     ]
    }
   ],
   "source": [
    "# Fiyatı sınıflara böl\n",
    "bins = [0, 500000, 750000, 1000000, 1250000, 1500000, 2000000, df['fiyat'].max()]\n",
    "labels = [x for x in range(1, len(bins))]\n",
    "print((bins))\n",
    "print(labels)"
   ]
  },
  {
   "cell_type": "code",
   "execution_count": 140,
   "id": "be1ef4ff",
   "metadata": {},
   "outputs": [
    {
     "name": "stdout",
     "output_type": "stream",
     "text": [
      "[5, 4, 6, 1, 2, 3]\n",
      "Categories (6, int64): [1 < 2 < 3 < 4 < 5 < 6]\n"
     ]
    }
   ],
   "source": [
    "# Fiyatı sınıflandırmak için\n",
    "y = pd.cut(df['fiyat'], bins=bins, labels=labels, include_lowest=True)\n",
    "\n",
    "# Uç sınıfları birleştir\n",
    "y = y.replace({7: 6}) \n",
    "print(y.unique())"
   ]
  },
  {
   "cell_type": "code",
   "execution_count": 141,
   "id": "103c6d90",
   "metadata": {},
   "outputs": [
    {
     "name": "stdout",
     "output_type": "stream",
     "text": [
      "0\n"
     ]
    }
   ],
   "source": [
    "print(y.isnull().sum())  # 0 çıkmalı"
   ]
  },
  {
   "cell_type": "code",
   "execution_count": 142,
   "id": "7301fac4",
   "metadata": {},
   "outputs": [],
   "source": [
    "X_train, X_test, y_train, y_test = train_test_split(\n",
    "    X, y, test_size=0.2, random_state=42\n",
    ")"
   ]
  },
  {
   "cell_type": "code",
   "execution_count": 143,
   "id": "f40d1f5e",
   "metadata": {},
   "outputs": [],
   "source": [
    "model = Pipeline([\n",
    "    ('preparation', full_pipeline),\n",
    "    ('model', RandomForestClassifier(n_estimators=100, random_state=42))\n",
    "])"
   ]
  },
  {
   "cell_type": "code",
   "execution_count": 144,
   "id": "b421c7eb",
   "metadata": {},
   "outputs": [
    {
     "data": {
      "text/html": [
       "<style>#sk-container-id-6 {color: black;}#sk-container-id-6 pre{padding: 0;}#sk-container-id-6 div.sk-toggleable {background-color: white;}#sk-container-id-6 label.sk-toggleable__label {cursor: pointer;display: block;width: 100%;margin-bottom: 0;padding: 0.3em;box-sizing: border-box;text-align: center;}#sk-container-id-6 label.sk-toggleable__label-arrow:before {content: \"▸\";float: left;margin-right: 0.25em;color: #696969;}#sk-container-id-6 label.sk-toggleable__label-arrow:hover:before {color: black;}#sk-container-id-6 div.sk-estimator:hover label.sk-toggleable__label-arrow:before {color: black;}#sk-container-id-6 div.sk-toggleable__content {max-height: 0;max-width: 0;overflow: hidden;text-align: left;background-color: #f0f8ff;}#sk-container-id-6 div.sk-toggleable__content pre {margin: 0.2em;color: black;border-radius: 0.25em;background-color: #f0f8ff;}#sk-container-id-6 input.sk-toggleable__control:checked~div.sk-toggleable__content {max-height: 200px;max-width: 100%;overflow: auto;}#sk-container-id-6 input.sk-toggleable__control:checked~label.sk-toggleable__label-arrow:before {content: \"▾\";}#sk-container-id-6 div.sk-estimator input.sk-toggleable__control:checked~label.sk-toggleable__label {background-color: #d4ebff;}#sk-container-id-6 div.sk-label input.sk-toggleable__control:checked~label.sk-toggleable__label {background-color: #d4ebff;}#sk-container-id-6 input.sk-hidden--visually {border: 0;clip: rect(1px 1px 1px 1px);clip: rect(1px, 1px, 1px, 1px);height: 1px;margin: -1px;overflow: hidden;padding: 0;position: absolute;width: 1px;}#sk-container-id-6 div.sk-estimator {font-family: monospace;background-color: #f0f8ff;border: 1px dotted black;border-radius: 0.25em;box-sizing: border-box;margin-bottom: 0.5em;}#sk-container-id-6 div.sk-estimator:hover {background-color: #d4ebff;}#sk-container-id-6 div.sk-parallel-item::after {content: \"\";width: 100%;border-bottom: 1px solid gray;flex-grow: 1;}#sk-container-id-6 div.sk-label:hover label.sk-toggleable__label {background-color: #d4ebff;}#sk-container-id-6 div.sk-serial::before {content: \"\";position: absolute;border-left: 1px solid gray;box-sizing: border-box;top: 0;bottom: 0;left: 50%;z-index: 0;}#sk-container-id-6 div.sk-serial {display: flex;flex-direction: column;align-items: center;background-color: white;padding-right: 0.2em;padding-left: 0.2em;position: relative;}#sk-container-id-6 div.sk-item {position: relative;z-index: 1;}#sk-container-id-6 div.sk-parallel {display: flex;align-items: stretch;justify-content: center;background-color: white;position: relative;}#sk-container-id-6 div.sk-item::before, #sk-container-id-6 div.sk-parallel-item::before {content: \"\";position: absolute;border-left: 1px solid gray;box-sizing: border-box;top: 0;bottom: 0;left: 50%;z-index: -1;}#sk-container-id-6 div.sk-parallel-item {display: flex;flex-direction: column;z-index: 1;position: relative;background-color: white;}#sk-container-id-6 div.sk-parallel-item:first-child::after {align-self: flex-end;width: 50%;}#sk-container-id-6 div.sk-parallel-item:last-child::after {align-self: flex-start;width: 50%;}#sk-container-id-6 div.sk-parallel-item:only-child::after {width: 0;}#sk-container-id-6 div.sk-dashed-wrapped {border: 1px dashed gray;margin: 0 0.4em 0.5em 0.4em;box-sizing: border-box;padding-bottom: 0.4em;background-color: white;}#sk-container-id-6 div.sk-label label {font-family: monospace;font-weight: bold;display: inline-block;line-height: 1.2em;}#sk-container-id-6 div.sk-label-container {text-align: center;}#sk-container-id-6 div.sk-container {/* jupyter's `normalize.less` sets `[hidden] { display: none; }` but bootstrap.min.css set `[hidden] { display: none !important; }` so we also need the `!important` here to be able to override the default hidden behavior on the sphinx rendered scikit-learn.org. See: https://github.com/scikit-learn/scikit-learn/issues/21755 */display: inline-block !important;position: relative;}#sk-container-id-6 div.sk-text-repr-fallback {display: none;}</style><div id=\"sk-container-id-6\" class=\"sk-top-container\"><div class=\"sk-text-repr-fallback\"><pre>Pipeline(steps=[(&#x27;preparation&#x27;,\n",
       "                 ColumnTransformer(transformers=[(&#x27;num&#x27;, StandardScaler(),\n",
       "                                                  [&#x27;model_yili&#x27;]),\n",
       "                                                 (&#x27;cat&#x27;,\n",
       "                                                  OneHotEncoder(handle_unknown=&#x27;ignore&#x27;),\n",
       "                                                  [&#x27;model&#x27;, &#x27;model_detay&#x27;,\n",
       "                                                   &#x27;sehir&#x27;, &#x27;ilce&#x27;, &#x27;ilan_turu&#x27;,\n",
       "                                                   &#x27;tip&#x27;, &#x27;marka&#x27;,\n",
       "                                                   &#x27;motor_hacmi&#x27;, &#x27;motor_tipi&#x27;,\n",
       "                                                   &#x27;donanim&#x27;])])),\n",
       "                (&#x27;model&#x27;, RandomForestClassifier(random_state=42))])</pre><b>In a Jupyter environment, please rerun this cell to show the HTML representation or trust the notebook. <br />On GitHub, the HTML representation is unable to render, please try loading this page with nbviewer.org.</b></div><div class=\"sk-container\" hidden><div class=\"sk-item sk-dashed-wrapped\"><div class=\"sk-label-container\"><div class=\"sk-label sk-toggleable\"><input class=\"sk-toggleable__control sk-hidden--visually\" id=\"sk-estimator-id-36\" type=\"checkbox\" ><label for=\"sk-estimator-id-36\" class=\"sk-toggleable__label sk-toggleable__label-arrow\">Pipeline</label><div class=\"sk-toggleable__content\"><pre>Pipeline(steps=[(&#x27;preparation&#x27;,\n",
       "                 ColumnTransformer(transformers=[(&#x27;num&#x27;, StandardScaler(),\n",
       "                                                  [&#x27;model_yili&#x27;]),\n",
       "                                                 (&#x27;cat&#x27;,\n",
       "                                                  OneHotEncoder(handle_unknown=&#x27;ignore&#x27;),\n",
       "                                                  [&#x27;model&#x27;, &#x27;model_detay&#x27;,\n",
       "                                                   &#x27;sehir&#x27;, &#x27;ilce&#x27;, &#x27;ilan_turu&#x27;,\n",
       "                                                   &#x27;tip&#x27;, &#x27;marka&#x27;,\n",
       "                                                   &#x27;motor_hacmi&#x27;, &#x27;motor_tipi&#x27;,\n",
       "                                                   &#x27;donanim&#x27;])])),\n",
       "                (&#x27;model&#x27;, RandomForestClassifier(random_state=42))])</pre></div></div></div><div class=\"sk-serial\"><div class=\"sk-item sk-dashed-wrapped\"><div class=\"sk-label-container\"><div class=\"sk-label sk-toggleable\"><input class=\"sk-toggleable__control sk-hidden--visually\" id=\"sk-estimator-id-37\" type=\"checkbox\" ><label for=\"sk-estimator-id-37\" class=\"sk-toggleable__label sk-toggleable__label-arrow\">preparation: ColumnTransformer</label><div class=\"sk-toggleable__content\"><pre>ColumnTransformer(transformers=[(&#x27;num&#x27;, StandardScaler(), [&#x27;model_yili&#x27;]),\n",
       "                                (&#x27;cat&#x27;, OneHotEncoder(handle_unknown=&#x27;ignore&#x27;),\n",
       "                                 [&#x27;model&#x27;, &#x27;model_detay&#x27;, &#x27;sehir&#x27;, &#x27;ilce&#x27;,\n",
       "                                  &#x27;ilan_turu&#x27;, &#x27;tip&#x27;, &#x27;marka&#x27;, &#x27;motor_hacmi&#x27;,\n",
       "                                  &#x27;motor_tipi&#x27;, &#x27;donanim&#x27;])])</pre></div></div></div><div class=\"sk-parallel\"><div class=\"sk-parallel-item\"><div class=\"sk-item\"><div class=\"sk-label-container\"><div class=\"sk-label sk-toggleable\"><input class=\"sk-toggleable__control sk-hidden--visually\" id=\"sk-estimator-id-38\" type=\"checkbox\" ><label for=\"sk-estimator-id-38\" class=\"sk-toggleable__label sk-toggleable__label-arrow\">num</label><div class=\"sk-toggleable__content\"><pre>[&#x27;model_yili&#x27;]</pre></div></div></div><div class=\"sk-serial\"><div class=\"sk-item\"><div class=\"sk-estimator sk-toggleable\"><input class=\"sk-toggleable__control sk-hidden--visually\" id=\"sk-estimator-id-39\" type=\"checkbox\" ><label for=\"sk-estimator-id-39\" class=\"sk-toggleable__label sk-toggleable__label-arrow\">StandardScaler</label><div class=\"sk-toggleable__content\"><pre>StandardScaler()</pre></div></div></div></div></div></div><div class=\"sk-parallel-item\"><div class=\"sk-item\"><div class=\"sk-label-container\"><div class=\"sk-label sk-toggleable\"><input class=\"sk-toggleable__control sk-hidden--visually\" id=\"sk-estimator-id-40\" type=\"checkbox\" ><label for=\"sk-estimator-id-40\" class=\"sk-toggleable__label sk-toggleable__label-arrow\">cat</label><div class=\"sk-toggleable__content\"><pre>[&#x27;model&#x27;, &#x27;model_detay&#x27;, &#x27;sehir&#x27;, &#x27;ilce&#x27;, &#x27;ilan_turu&#x27;, &#x27;tip&#x27;, &#x27;marka&#x27;, &#x27;motor_hacmi&#x27;, &#x27;motor_tipi&#x27;, &#x27;donanim&#x27;]</pre></div></div></div><div class=\"sk-serial\"><div class=\"sk-item\"><div class=\"sk-estimator sk-toggleable\"><input class=\"sk-toggleable__control sk-hidden--visually\" id=\"sk-estimator-id-41\" type=\"checkbox\" ><label for=\"sk-estimator-id-41\" class=\"sk-toggleable__label sk-toggleable__label-arrow\">OneHotEncoder</label><div class=\"sk-toggleable__content\"><pre>OneHotEncoder(handle_unknown=&#x27;ignore&#x27;)</pre></div></div></div></div></div></div></div></div><div class=\"sk-item\"><div class=\"sk-estimator sk-toggleable\"><input class=\"sk-toggleable__control sk-hidden--visually\" id=\"sk-estimator-id-42\" type=\"checkbox\" ><label for=\"sk-estimator-id-42\" class=\"sk-toggleable__label sk-toggleable__label-arrow\">RandomForestClassifier</label><div class=\"sk-toggleable__content\"><pre>RandomForestClassifier(random_state=42)</pre></div></div></div></div></div></div></div>"
      ],
      "text/plain": [
       "Pipeline(steps=[('preparation',\n",
       "                 ColumnTransformer(transformers=[('num', StandardScaler(),\n",
       "                                                  ['model_yili']),\n",
       "                                                 ('cat',\n",
       "                                                  OneHotEncoder(handle_unknown='ignore'),\n",
       "                                                  ['model', 'model_detay',\n",
       "                                                   'sehir', 'ilce', 'ilan_turu',\n",
       "                                                   'tip', 'marka',\n",
       "                                                   'motor_hacmi', 'motor_tipi',\n",
       "                                                   'donanim'])])),\n",
       "                ('model', RandomForestClassifier(random_state=42))])"
      ]
     },
     "execution_count": 144,
     "metadata": {},
     "output_type": "execute_result"
    }
   ],
   "source": [
    "model.fit(X_train, y_train)"
   ]
  },
  {
   "cell_type": "code",
   "execution_count": 145,
   "id": "485871e8",
   "metadata": {},
   "outputs": [],
   "source": [
    "y_pred = model.predict(X_test)"
   ]
  },
  {
   "cell_type": "code",
   "execution_count": 146,
   "id": "f3cc02e1",
   "metadata": {},
   "outputs": [
    {
     "name": "stdout",
     "output_type": "stream",
     "text": [
      "[[50  3  1  0  0  0]\n",
      " [ 7 54  7  0  0  0]\n",
      " [ 3 10 44  5  0  0]\n",
      " [ 1  1  2 38  4  1]\n",
      " [ 0  0  1  3 16  6]\n",
      " [ 0  2  0  4  2 19]]\n"
     ]
    }
   ],
   "source": [
    "print(confusion_matrix(y_test, y_pred))"
   ]
  },
  {
   "cell_type": "code",
   "execution_count": 147,
   "id": "e4f5ef10",
   "metadata": {},
   "outputs": [
    {
     "name": "stdout",
     "output_type": "stream",
     "text": [
      "              precision    recall  f1-score   support\n",
      "\n",
      "           1       0.82      0.93      0.87        54\n",
      "           2       0.77      0.79      0.78        68\n",
      "           3       0.80      0.71      0.75        62\n",
      "           4       0.76      0.81      0.78        47\n",
      "           5       0.73      0.62      0.67        26\n",
      "           6       0.73      0.70      0.72        27\n",
      "\n",
      "    accuracy                           0.78       284\n",
      "   macro avg       0.77      0.76      0.76       284\n",
      "weighted avg       0.78      0.78      0.78       284\n",
      "\n"
     ]
    }
   ],
   "source": [
    "print(classification_report(y_test, y_pred))"
   ]
  },
  {
   "cell_type": "code",
   "execution_count": 148,
   "id": "658680ef",
   "metadata": {},
   "outputs": [
    {
     "data": {
      "image/png": "[encoded data removed]",
      "text/plain": [
       "<Figure size 800x600 with 2 Axes>"
      ]
     },
     "metadata": {},
     "output_type": "display_data"
    }
   ],
   "source": [
    "# Karışıklık matrisi hesapla\n",
    "cm = confusion_matrix(y_test, y_pred)\n",
    "labels = sorted(y_test.unique())\n",
    "\n",
    "# Görselleştir\n",
    "plt.figure(figsize=(8, 6))\n",
    "sns.heatmap(cm, annot=True, fmt='d', cmap='Blues', xticklabels=labels, yticklabels=labels)\n",
    "plt.xlabel('Tahmin Edilen')\n",
    "plt.ylabel('Gerçek Değer')\n",
    "plt.title('Confusion Matrix')\n",
    "plt.show()\n"
   ]
  },
  {
   "cell_type": "code",
   "execution_count": 149,
   "id": "a737b8be",
   "metadata": {},
   "outputs": [
    {
     "data": {
      "image/png": "[encoded data removed]",
      "text/plain": [
       "<Figure size 800x600 with 1 Axes>"
      ]
     },
     "metadata": {},
     "output_type": "display_data"
    }
   ],
   "source": [
    "# Gerçrk ve tahmin edilen değerleri içeren DataFrame oluşur\n",
    "df_results = pd.DataFrame({\n",
    "    'Gerçek': y_test,\n",
    "    'Tahmin': y_pred\n",
    "})\n",
    "\n",
    "# Tahmin sınıflarının dağılımı\n",
    "plt.figure(figsize=(8, 6))\n",
    "sns.countplot(data=df_results, x='Tahmin', order=sorted(df_results['Tahmin'].unique()))\n",
    "plt.title(\"Tahmin Edilen Sınıfların Dağılımı\")\n",
    "plt.xlabel(\"Sınıf\")\n",
    "plt.ylabel(\"Adet\")\n",
    "plt.grid(True)\n",
    "plt.show()"
   ]
  },
  {
   "cell_type": "code",
   "execution_count": 150,
   "id": "63666e30",
   "metadata": {},
   "outputs": [
    {
     "data": {
      "image/png": "[encoded data removed]",
      "text/plain": [
       "<Figure size 800x600 with 1 Axes>"
      ]
     },
     "metadata": {},
     "output_type": "display_data"
    }
   ],
   "source": [
    "# Doğru ve yanlış tahminlerin sayısını gösteren bir sütun ekle \n",
    "df_results['Doğru mu'] = df_results['Gerçek'] == df_results['Tahmin']\n",
    "\n",
    "plt.figure(figsize=(8, 6))\n",
    "sns.countplot(data=df_results, x='Tahmin', hue='Doğru mu', order=sorted(df_results['Tahmin'].unique()))\n",
    "plt.title(\"Her Sınıfta Doğru/Yanlış Tahmin Sayısı\")\n",
    "plt.xlabel(\"Tahmin Sınıfı\")\n",
    "plt.ylabel(\"Adet\")\n",
    "plt.grid(True)\n",
    "plt.show()"
   ]
  }
 ],
 "metadata": {
  "kernelspec": {
   "display_name": "Python 3",
   "language": "python",
   "name": "python3"
  },
  "language_info": {
   "codemirror_mode": {
    "name": "ipython",
    "version": 3
   },
   "file_extension": ".py",
   "mimetype": "text/x-python",
   "name": "python",
   "nbconvert_exporter": "python",
   "pygments_lexer": "ipython3",
   "version": "3.8.7"
  }
 },
 "nbformat": 4,
 "nbformat_minor": 5
}
