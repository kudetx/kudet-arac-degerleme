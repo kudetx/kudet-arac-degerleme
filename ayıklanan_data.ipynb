{
 "cells": [
  {
   "cell_type": "markdown",
   "id": "23a4790b",
   "metadata": {},
   "source": [
    "#İkinci El Araç Tahmin uYGULAMASI"
   ]
  },
  {
   "cell_type": "code",
   "execution_count": 65,
   "id": "e03fd952",
   "metadata": {},
   "outputs": [],
   "source": [
    "import os\n",
    "import numpy as np\n",
    "import pandas as pd"
   ]
  },
  {
   "cell_type": "code",
   "execution_count": 66,
   "id": "3dbe53b7",
   "metadata": {},
   "outputs": [],
   "source": [
    "# Load the dataset \n",
    "df = pd.read_csv(\"data/arabamcom_merged.csv\")"
   ]
  },
  {
   "cell_type": "code",
   "execution_count": 67,
   "id": "28b53db6",
   "metadata": {},
   "outputs": [
    {
     "name": "stdout",
     "output_type": "stream",
     "text": [
      "['smallest-text-minus href', 'listing-image src', 'listing-text-new', 'listing-text-new 2', 'fade-out-content-wrapper', 'fade-out-content-wrapper href 2', 'db', 'fade-out-content-wrapper 2', 'fade-out-content-wrapper 3', 'fade-out-content-wrapper 4']\n"
     ]
    }
   ],
   "source": [
    "# Display the columns names\n",
    "print(df.columns.tolist())"
   ]
  },
  {
   "cell_type": "code",
   "execution_count": 68,
   "id": "5c52eb10",
   "metadata": {},
   "outputs": [
    {
     "name": "stdout",
     "output_type": "stream",
     "text": [
      "<class 'pandas.core.frame.DataFrame'>\n",
      "RangeIndex: 1565 entries, 0 to 1564\n",
      "Data columns (total 10 columns):\n",
      " #   Column                           Non-Null Count  Dtype \n",
      "---  ------                           --------------  ----- \n",
      " 0   smallest-text-minus href         1565 non-null   object\n",
      " 1   listing-image src                1565 non-null   object\n",
      " 2   listing-text-new                 1565 non-null   object\n",
      " 3   listing-text-new 2               1565 non-null   object\n",
      " 4   fade-out-content-wrapper         1565 non-null   int64 \n",
      " 5   fade-out-content-wrapper href 2  1441 non-null   object\n",
      " 6   db                               1565 non-null   object\n",
      " 7   fade-out-content-wrapper 2       1180 non-null   object\n",
      " 8   fade-out-content-wrapper 3       1562 non-null   object\n",
      " 9   fade-out-content-wrapper 4       1562 non-null   object\n",
      "dtypes: int64(1), object(9)\n",
      "memory usage: 122.4+ KB\n",
      "None\n"
     ]
    }
   ],
   "source": [
    "print(df.info())"
   ]
  },
  {
   "cell_type": "code",
   "execution_count": 69,
   "id": "bdb84cd0",
   "metadata": {},
   "outputs": [
    {
     "name": "stdout",
     "output_type": "stream",
     "text": [
      "Index(['smallest-text-minus href', 'listing-image src', 'listing-text-new',\n",
      "       'listing-text-new 2', 'fade-out-content-wrapper',\n",
      "       'fade-out-content-wrapper href 2', 'db', 'fade-out-content-wrapper 2',\n",
      "       'fade-out-content-wrapper 3', 'fade-out-content-wrapper 4'],\n",
      "      dtype='object')\n"
     ]
    }
   ],
   "source": [
    "print(df.columns)"
   ]
  },
  {
   "cell_type": "code",
   "execution_count": 70,
   "id": "1a1d1cd0",
   "metadata": {},
   "outputs": [],
   "source": [
    "#Drop unwanted columns for better readability\n",
    "df.drop(columns=[\n",
    "    'listing-image src',\n",
    "    'fade-out-content-wrapper href 2',\n",
    "    'fade-out-content-wrapper 2'\n",
    "], inplace=True, errors='ignore')\n",
    "\n",
    "# Rename columns for better readability\n",
    "df.rename(columns={\n",
    "    'smallest-text-minus href': 'ilan_linki',\n",
    "    'listing-text-new': 'model',\n",
    "    'listing-text-new 2': 'model_detay',\n",
    "    'fade-out-content-wrapper': 'model_yili',\n",
    "    'db': 'fiyat',\n",
    "    'fade-out-content-wrapper 3': 'sehir',\n",
    "    'fade-out-content-wrapper 4': 'ilce'\n",
    "}, inplace=True)\n"
   ]
  },
  {
   "cell_type": "code",
   "execution_count": 71,
   "id": "836bbe35",
   "metadata": {},
   "outputs": [
    {
     "name": "stdout",
     "output_type": "stream",
     "text": [
      "<class 'pandas.core.frame.DataFrame'>\n",
      "RangeIndex: 1565 entries, 0 to 1564\n",
      "Data columns (total 7 columns):\n",
      " #   Column       Non-Null Count  Dtype \n",
      "---  ------       --------------  ----- \n",
      " 0   ilan_linki   1565 non-null   object\n",
      " 1   model        1565 non-null   object\n",
      " 2   model_detay  1565 non-null   object\n",
      " 3   model_yili   1565 non-null   int64 \n",
      " 4   fiyat        1565 non-null   object\n",
      " 5   sehir        1562 non-null   object\n",
      " 6   ilce         1562 non-null   object\n",
      "dtypes: int64(1), object(6)\n",
      "memory usage: 85.7+ KB\n",
      "None\n"
     ]
    }
   ],
   "source": [
    "print(df.info())"
   ]
  },
  {
   "cell_type": "code",
   "execution_count": 72,
   "id": "dd8b4bb6",
   "metadata": {},
   "outputs": [
    {
     "name": "stdout",
     "output_type": "stream",
     "text": [
      "['1.350.000 TL' '1.025.000 TL' '1.910.900 TL' '1.119.900 TL'\n",
      " '1.179.900 TL' '439.000 TL' '2.100.000 TL' '2.250.000 TL' '1.850.000 TL'\n",
      " '2.799.000 TL']\n"
     ]
    }
   ],
   "source": [
    "print(df[\"fiyat\"].unique()[:10])  # ilk 10 farklı değeri göster"
   ]
  },
  {
   "cell_type": "code",
   "execution_count": 73,
   "id": "9c7fe721",
   "metadata": {},
   "outputs": [],
   "source": [
    "# Remove TL symbols, non-numeric characters and spaces, then convert to numeric\n",
    "df[\"fiyat\"] = df[\"fiyat\"].astype(str).str.replace(\"[^0-9]\", \"\", regex=True)\n",
    "df[\"fiyat\"] = pd.to_numeric(df[\"fiyat\"], errors=\"coerce\")"
   ]
  },
  {
   "cell_type": "code",
   "execution_count": 74,
   "id": "9a074fff",
   "metadata": {},
   "outputs": [
    {
     "name": "stdout",
     "output_type": "stream",
     "text": [
      "0    1350000\n",
      "1    1025000\n",
      "2    1910900\n",
      "3    1119900\n",
      "4    1179900\n",
      "5     439000\n",
      "6    2100000\n",
      "7    2250000\n",
      "8    1850000\n",
      "9    2799000\n",
      "Name: fiyat, dtype: int64\n",
      "int64\n",
      "0\n"
     ]
    }
   ],
   "source": [
    "print(df[\"fiyat\"].head(10))\n",
    "print(df[\"fiyat\"].dtype)\n",
    "print(df[\"fiyat\"].isnull().sum())  # kaç tanesi NaN olmuş"
   ]
  },
  {
   "cell_type": "code",
   "execution_count": 75,
   "id": "945b297b",
   "metadata": {},
   "outputs": [],
   "source": [
    "def parse_ilan_link(link):\n",
    "    \"\"\"\n",
    "    Parses the given listing link and extracts vehicle information.\n",
    "\n",
    "    Parameters:\n",
    "        link (str): The listing URL string containing vehicle details.\n",
    "\n",
    "    Returns:\n",
    "        dict: A dictionary with extracted fields such as 'ilan_turu', 'tip', 'marka', 'model',\n",
    "              'motor_hacmi', 'motor_tipi', 'donanim', 'donanim_detay', 'model_yili', 'yakit', 'vites'.\n",
    "    \"\"\"\n",
    "    \n",
    "    try:\n",
    "        if not isinstance(link, str):\n",
    "            return {}\n",
    "\n",
    "        parts = link.split(\"/\")\n",
    "        if len(parts) < 5:\n",
    "            return {}\n",
    "\n",
    "        segment = parts[4]\n",
    "        pieces = segment.split(\"-\")\n",
    "\n",
    "        return {\n",
    "            \"ilan_turu\": pieces[0] if len(pieces) > 0 else None,\n",
    "            \"tip\": pieces[1] if len(pieces) > 1 else None,\n",
    "            \"marka\": pieces[2] if len(pieces) > 2 else None,\n",
    "            \"model\": pieces[3] if len(pieces) > 3 else None,\n",
    "            \"motor_hacmi\": \".\".join(pieces[4:6]) if len(pieces) > 5 else None,\n",
    "            \"motor_tipi\": pieces[6] if len(pieces) > 6 else None,\n",
    "            \"donanim\": pieces[7] if len(pieces) > 7 else None,\n",
    "            \"donanim_detay\": pieces[8] if len(pieces) > 8 else None,\n",
    "            \"model_yili\": pieces[9] if len(pieces) > 9 else None,\n",
    "            \"yakit\": pieces[10] if len(pieces) > 10 else None,\n",
    "            \"vites\": pieces[11] if len(pieces) > 11 else None\n",
    "        }\n",
    "    except Exception as e:\n",
    "        print(\"Hata:\", e)\n",
    "        return {}\n"
   ]
  },
  {
   "cell_type": "code",
   "execution_count": 76,
   "id": "cb81cc34",
   "metadata": {},
   "outputs": [],
   "source": [
    "# Apply the parsing function to the 'parse_ilan_link' column and expand the results into seperate columns \n",
    "parsed_df = df[\"ilan_linki\"].apply(parse_ilan_link).apply(pd.Series)\n",
    "df = pd.concat([df, parsed_df], axis=1)\n",
    "# Remove the duplicate columns that may have been created during concenation\n",
    "df = df.loc[:, ~df.columns.duplicated()]"
   ]
  },
  {
   "cell_type": "code",
   "execution_count": 77,
   "id": "867fe87e",
   "metadata": {},
   "outputs": [
    {
     "name": "stdout",
     "output_type": "stream",
     "text": [
      "        marka                                  model motor_hacmi vites\n",
      "1503     opel           Opel Corsa 1.3 CDTI Essentia         1.3  None\n",
      "675      ford  Ford Ranger 2.0 EcoBlue 4x4 Wild Trak         2.0  None\n",
      "1415  renault             Renault Clio 1.6 Dynamique         1.6  None\n",
      "349      fiat            Fiat Egea 1.3 Multijet Easy         1.3  None\n",
      "1386    honda    Honda Civic 1.6 i-VTEC ECO Elegance         1.6  None\n"
     ]
    }
   ],
   "source": [
    "print(df[[\"marka\", \"model\", \"motor_hacmi\", \"vites\"]].sample(5))\n"
   ]
  },
  {
   "cell_type": "code",
   "execution_count": 78,
   "id": "5ede1dee",
   "metadata": {},
   "outputs": [
    {
     "name": "stdout",
     "output_type": "stream",
     "text": [
      "Index(['ilan_linki', 'model', 'model_detay', 'model_yili', 'fiyat', 'sehir',\n",
      "       'ilce', 'ilan_turu', 'tip', 'marka', 'motor_hacmi', 'motor_tipi',\n",
      "       'donanim', 'donanim_detay', 'yakit', 'vites'],\n",
      "      dtype='object')\n"
     ]
    }
   ],
   "source": [
    "print(df.columns)"
   ]
  },
  {
   "cell_type": "code",
   "execution_count": 79,
   "id": "7b78e1cc",
   "metadata": {},
   "outputs": [
    {
     "name": "stdout",
     "output_type": "stream",
     "text": [
      "['jeep' 'hyundai' 'chery' 'fiat' 'renault' 'mercedes' 'volvo' 'nissan'\n",
      " 'skoda' 'peugeot' 'seat' 'audi' 'bmw' 'volkswagen' 'toyota' 'honda'\n",
      " 'citroen' 'ford' 'tofas' 'opel' 'ssangyong' 'land' 'kia' 'dacia' 'iveco'\n",
      " 'porsche' 'mitsubishi' 'yamaha' 'river' 'jaguar' 'kuba' 'chevrolet'\n",
      " 'maserati' 'ticari' 'bajaj' 'mini' 'tvs' 'baoli' 'togg' 'karsan' 'kral'\n",
      " 'skywell' 'alfa' 'car' 'mazda' 'mg' 'revolt' 'isuzu' 'smart' 'ds' 'new'\n",
      " 'universal' 'yuki' 'suzuki' 'otokar' 'yiben' 'lamborghini']\n",
      "[2019 2013 2024 2022 2017 2012 2021 1997 2011 2014 2015 2025 2023 2016\n",
      " 2018 2003 2020 2010 1993 2009 2007 2000 2005 2006 1988 1998 1999 1992\n",
      " 2004 2008 1994 2001 1991 1996 1990 2002 1995]\n",
      "0       None\n",
      "1       None\n",
      "2       None\n",
      "3       None\n",
      "4       None\n",
      "        ... \n",
      "1560    None\n",
      "1561    None\n",
      "1562    None\n",
      "1563    None\n",
      "1564    None\n",
      "Name: vites, Length: 1565, dtype: object\n"
     ]
    }
   ],
   "source": [
    "print(df['marka'].unique())\n",
    "print(df['model_yili'].unique())\n",
    "print(df['vites']\n",
    ")"
   ]
  },
  {
   "cell_type": "code",
   "execution_count": 80,
   "id": "f52ac87a",
   "metadata": {},
   "outputs": [
    {
     "name": "stdout",
     "output_type": "stream",
     "text": [
      "['ilan_linki', 'model', 'model_detay', 'model_yili', 'fiyat', 'sehir', 'ilce', 'ilan_turu', 'tip', 'marka', 'motor_hacmi', 'motor_tipi', 'donanim', 'donanim_detay', 'yakit', 'vites']\n"
     ]
    }
   ],
   "source": [
    "print(df.columns.tolist())"
   ]
  },
  {
   "cell_type": "code",
   "execution_count": 81,
   "id": "833e2927",
   "metadata": {},
   "outputs": [
    {
     "name": "stdout",
     "output_type": "stream",
     "text": [
      "ilan_linki          0\n",
      "model               0\n",
      "model_detay         0\n",
      "model_yili          0\n",
      "fiyat               0\n",
      "sehir               3\n",
      "ilce                3\n",
      "ilan_turu           0\n",
      "tip                 0\n",
      "marka               0\n",
      "motor_hacmi        68\n",
      "motor_tipi        105\n",
      "donanim           354\n",
      "donanim_detay    1008\n",
      "yakit            1556\n",
      "vites            1561\n",
      "dtype: int64\n"
     ]
    }
   ],
   "source": [
    "# Print the number of missing values in each column\n",
    "print(df.isnull().sum())"
   ]
  },
  {
   "cell_type": "code",
   "execution_count": 82,
   "id": "be1972bf",
   "metadata": {},
   "outputs": [],
   "source": [
    "# Drop unwanted columns\n",
    "df.drop(columns=[\"vites\", \"yakit\", \"donanim_detay\"], inplace=True)"
   ]
  },
  {
   "cell_type": "code",
   "execution_count": 83,
   "id": "ff266afc",
   "metadata": {},
   "outputs": [],
   "source": [
    "# Fill missing values with \"bilinmiyor\"\n",
    "df[\"motor_hacmi\"].fillna(\"bilinmiyor\", inplace=True)\n",
    "df[\"motor_tipi\"].fillna(\"bilinmiyor\", inplace=True)\n",
    "df[\"donanim\"].fillna(\"bilinmiyor\", inplace=True)"
   ]
  },
  {
   "cell_type": "code",
   "execution_count": 84,
   "id": "e0c3ee48",
   "metadata": {},
   "outputs": [
    {
     "name": "stdout",
     "output_type": "stream",
     "text": [
      "ilan_linki     0\n",
      "model          0\n",
      "model_detay    0\n",
      "model_yili     0\n",
      "fiyat          0\n",
      "sehir          3\n",
      "ilce           3\n",
      "ilan_turu      0\n",
      "tip            0\n",
      "marka          0\n",
      "motor_hacmi    0\n",
      "motor_tipi     0\n",
      "donanim        0\n",
      "dtype: int64\n",
      "(1565, 13)\n"
     ]
    }
   ],
   "source": [
    "# NaN values is controlled\n",
    "print(df.isnull().sum())\n",
    "print(df.shape)\n"
   ]
  },
  {
   "cell_type": "code",
   "execution_count": 85,
   "id": "7789f07b",
   "metadata": {},
   "outputs": [
    {
     "name": "stdout",
     "output_type": "stream",
     "text": [
      "(1551, 13)\n",
      "        model_yili         fiyat\n",
      "count  1551.000000  1.551000e+03\n",
      "mean   2014.214055  1.117144e+06\n",
      "std       7.178504  2.815328e+06\n",
      "min    1988.000000  1.050000e+05\n",
      "25%    2011.000000  5.342500e+05\n",
      "50%    2015.000000  8.050000e+05\n",
      "75%    2020.000000  1.227500e+06\n",
      "max    2025.000000  6.200000e+07\n"
     ]
    }
   ],
   "source": [
    "# 1980 and above model with price <= 100000 cars selection. Other cars are dropped.\n",
    "df = df[(df[\"model_yili\"] >= 1980) & (df[\"fiyat\"] >= 100000)]\n",
    "print(df.shape)\n",
    "print(df[[\"model_yili\", \"fiyat\"]].describe())\n"
   ]
  },
  {
   "cell_type": "code",
   "execution_count": 86,
   "id": "ede0aba1",
   "metadata": {},
   "outputs": [
    {
     "name": "stdout",
     "output_type": "stream",
     "text": [
      "Index(['ilan_linki', 'model', 'model_detay', 'model_yili', 'fiyat', 'sehir',\n",
      "       'ilce', 'ilan_turu', 'tip', 'marka', 'motor_hacmi', 'motor_tipi',\n",
      "       'donanim'],\n",
      "      dtype='object')\n"
     ]
    }
   ],
   "source": [
    "print(df.columns)"
   ]
  },
  {
   "cell_type": "code",
   "execution_count": 87,
   "id": "0f64bead",
   "metadata": {},
   "outputs": [
    {
     "name": "stdout",
     "output_type": "stream",
     "text": [
      "<class 'pandas.core.frame.DataFrame'>\n",
      "Index: 1551 entries, 0 to 1564\n",
      "Data columns (total 13 columns):\n",
      " #   Column       Non-Null Count  Dtype \n",
      "---  ------       --------------  ----- \n",
      " 0   ilan_linki   1551 non-null   object\n",
      " 1   model        1551 non-null   object\n",
      " 2   model_detay  1551 non-null   object\n",
      " 3   model_yili   1551 non-null   int64 \n",
      " 4   fiyat        1551 non-null   int64 \n",
      " 5   sehir        1548 non-null   object\n",
      " 6   ilce         1548 non-null   object\n",
      " 7   ilan_turu    1551 non-null   object\n",
      " 8   tip          1551 non-null   object\n",
      " 9   marka        1551 non-null   object\n",
      " 10  motor_hacmi  1551 non-null   object\n",
      " 11  motor_tipi   1551 non-null   object\n",
      " 12  donanim      1551 non-null   object\n",
      "dtypes: int64(2), object(11)\n",
      "memory usage: 169.6+ KB\n",
      "None\n"
     ]
    }
   ],
   "source": [
    "print(df.info())"
   ]
  },
  {
   "cell_type": "code",
   "execution_count": 88,
   "id": "5168651a",
   "metadata": {},
   "outputs": [],
   "source": [
    "#Drop the 'ilan_linki' column as it is no longer needed. and previously, the necessary information was taken from it\n",
    "df.drop(columns=[\"ilan_linki\"], inplace=True)"
   ]
  },
  {
   "cell_type": "code",
   "execution_count": 89,
   "id": "8845e093",
   "metadata": {},
   "outputs": [
    {
     "name": "stdout",
     "output_type": "stream",
     "text": [
      "Index(['model', 'model_detay', 'model_yili', 'fiyat', 'sehir', 'ilce',\n",
      "       'ilan_turu', 'tip', 'marka', 'motor_hacmi', 'motor_tipi', 'donanim'],\n",
      "      dtype='object')\n"
     ]
    }
   ],
   "source": [
    "print(df.columns)"
   ]
  },
  {
   "cell_type": "code",
   "execution_count": 90,
   "id": "85f046ad",
   "metadata": {},
   "outputs": [
    {
     "name": "stdout",
     "output_type": "stream",
     "text": [
      "<class 'pandas.core.frame.DataFrame'>\n",
      "Index: 1551 entries, 0 to 1564\n",
      "Data columns (total 12 columns):\n",
      " #   Column       Non-Null Count  Dtype \n",
      "---  ------       --------------  ----- \n",
      " 0   model        1551 non-null   object\n",
      " 1   model_detay  1551 non-null   object\n",
      " 2   model_yili   1551 non-null   int64 \n",
      " 3   fiyat        1551 non-null   int64 \n",
      " 4   sehir        1548 non-null   object\n",
      " 5   ilce         1548 non-null   object\n",
      " 6   ilan_turu    1551 non-null   object\n",
      " 7   tip          1551 non-null   object\n",
      " 8   marka        1551 non-null   object\n",
      " 9   motor_hacmi  1551 non-null   object\n",
      " 10  motor_tipi   1551 non-null   object\n",
      " 11  donanim      1551 non-null   object\n",
      "dtypes: int64(2), object(10)\n",
      "memory usage: 157.5+ KB\n",
      "None\n"
     ]
    }
   ],
   "source": [
    "print(df.info())"
   ]
  },
  {
   "cell_type": "code",
   "execution_count": 91,
   "id": "43e0e4e5",
   "metadata": {},
   "outputs": [],
   "source": [
    "# Get most common values for 'sehir' and 'ilce' \n",
    "sehir_mode = df[\"sehir\"].mode()[0]\n",
    "ilce_mode = df[\"ilce\"].mode()[0]\n",
    "\n",
    "# Fill NaN values with the most common values\n",
    "df[\"sehir\"].fillna(sehir_mode, inplace=True)\n",
    "df[\"ilce\"].fillna(ilce_mode, inplace=True)\n"
   ]
  },
  {
   "cell_type": "code",
   "execution_count": 92,
   "id": "68bd9d08",
   "metadata": {},
   "outputs": [
    {
     "name": "stdout",
     "output_type": "stream",
     "text": [
      "sehir    0\n",
      "ilce     0\n",
      "dtype: int64\n"
     ]
    }
   ],
   "source": [
    "print(df[[\"sehir\", \"ilce\"]].isnull().sum())"
   ]
  },
  {
   "cell_type": "code",
   "execution_count": 93,
   "id": "f2f8468b",
   "metadata": {},
   "outputs": [
    {
     "name": "stdout",
     "output_type": "stream",
     "text": [
      "['1.6' '8.pro' 'cross.1' '1.5' 'axor.1840' 'sx.2' 'e.180' '1.0' '2.0'\n",
      " 'serisi.520i' '3.0' 'serisi.418i' '1.4' 'bilinmiyor' 'combi.1' '2.4'\n",
      " 'variant.1' '1.8' 'elysee.1' 'sedan.1' '1.3' 'sedan.35' 'courier.1'\n",
      " '19.1' 'aircross.1' 'sportback.45' 'serisi.216d' 'city.1' 'e.200' 'e.300'\n",
      " 'freelander.2' 'express.1' '3.2' '1.2' 'blue.1' '1.33' 'x.1'\n",
      " 'serisi.316i' 'trail.1' 'connect.1' 'hr.1' '2.3' '72.160' 'gt3.rs'\n",
      " '300.city' '0.9' 'a.180' 'sportback.1' 'c.180' 'serisi.320i' 'cargo.2520'\n",
      " '9.1' 'evo.1' 'sedan.2' 'cargo.1' 'c.200' 'cla.200' '16d.sdrive' '2.2'\n",
      " 'roc.1' '2.7' 'sportback.2' 'up.4wd' 'v.2' 'range.evoque' 'serisi.520d'\n",
      " 'serisi.730d' '2.5' 'serisi.m5' 'canter.8bl' 'dorse.kuru' '1200.x'\n",
      " '200.rs' '300.s' 'transit.350' 'eqb.250' 'e.220' 'transit.14'\n",
      " 'transit.16' 'panorama.1' 'countryman.1' 's.350' '1.9' 'transit.t330'\n",
      " '1.6d' '1.25' 'glk.220' '15.1' 'kr.305' '13.m3' 'serisi.320d' 'glc.350'\n",
      " 'cherokee.5' 'serisi.318d' 'premium.plus' 'serisi.116i' 'era.1'\n",
      " 'multix.1' 'tonale.1' 'a.200' '250.d' 'serisi.316ti' '5.vites' '400.ug'\n",
      " 'ailesi.500l' '20d.xdrive' '2.1' 'serisi.116d' 'range.3' 'eqs.53'\n",
      " 'sole.1' 'x.250' '147.1' '25d.xdrive' '300.camli' 'troy.1' '350.m'\n",
      " '7.pro' 'avant.2' 'ds7.crossback' 'ds9.1' 'serisi.i5' 'sedan.40'\n",
      " 'connect.k210' 'grande.1' '5.1' '12.toros' '300.te' 'thor.450'\n",
      " 'serisi.118i' '1.1' '85.85' 's.cross' '1.7' 'serisi.i4' 'uzun.sasi'\n",
      " '10.long' 'sportback.35' 'e.favoured' 'e.tron' 'lp.580' 'cherokee.3']\n"
     ]
    }
   ],
   "source": [
    "# Display unique values for 'motor_hacmi' and check for NaN values\n",
    "print(df[\"motor_hacmi\"].dropna().unique())"
   ]
  },
  {
   "cell_type": "code",
   "execution_count": null,
   "id": "c2a943e1",
   "metadata": {},
   "outputs": [
    {
     "name": "stdout",
     "output_type": "stream",
     "text": [
      "motor_hacmi\n",
      "1.6            302\n",
      "1.5            198\n",
      "1.4            150\n",
      "1.3            106\n",
      "1.2             89\n",
      "combi.1         61\n",
      "bilinmiyor      55\n",
      "2.0             50\n",
      "1.0             48\n",
      "cross.1         21\n",
      "courier.1       17\n",
      "elysee.1        16\n",
      "connect.1       16\n",
      "sedan.2         15\n",
      "sedan.1         13\n",
      "serisi.320i     13\n",
      "cargo.1         13\n",
      "1.9             12\n",
      "1.8             12\n",
      "serisi.520i     11\n",
      "c.180           11\n",
      "a.180           10\n",
      "e.220           10\n",
      "3.0              9\n",
      "s.350            9\n",
      "aircross.1       9\n",
      "blue.1           8\n",
      "panorama.1       8\n",
      "serisi.316i      7\n",
      "0.9              7\n",
      "Name: count, dtype: int64\n"
     ]
    }
   ],
   "source": [
    "# Show the most common 'motor hacmi' values with frequency\n",
    "print(df[\"motor_hacmi\"].value_counts(dropna=False).head(30))  # first 30 value"
   ]
  },
  {
   "cell_type": "code",
   "execution_count": 95,
   "id": "dc911af2",
   "metadata": {},
   "outputs": [
    {
     "name": "stdout",
     "output_type": "stream",
     "text": [
      "                                                 model  \\\n",
      "987                          Toyota Auris 1.33 Comfort   \n",
      "902                     Audi A3 Sedan 1.6 TDI Ambiente   \n",
      "781              Ticari Araçlar Dorse Kuru Yük Kapaklı   \n",
      "465                   Peugeot 308 1.6 THP Feeline Plus   \n",
      "557          Citroen C5 Aircross 1.5 BlueHDI Feel Bold   \n",
      "1232                      Renault Megane 1.5 dCi Touch   \n",
      "123      Opel Insignia 1.6 CDTI Grand Sport Excellence   \n",
      "1050                  Renault Duster 1.6 E-Tech Techno   \n",
      "312                         Renault Megane 1.6 Extreme   \n",
      "793                          BMW 3 Serisi 316i M Sport   \n",
      "1156                 Volkswagen Caddy 1.6 TDI Maxi Van   \n",
      "1215                       Fiat Egea 1.3 Multijet Easy   \n",
      "142                            Seat Leon 1.6 TDI Style   \n",
      "141   Mercedes - Benz C 180 BlueEFFICIENCY Fascination   \n",
      "434       Fiat Doblo Panorama 1.6 Multijet Premio Plus   \n",
      "86                     Citroen C4 X 1.2 PureTech Shine   \n",
      "1383                                 Fiat Palio 1.4 EL   \n",
      "665        Ford Tourneo Courier 1.5 TDCi Journey Trend   \n",
      "879                      Skoda SuperB 1.6 TDI Prestige   \n",
      "371                       Ford Puma 1.0 EcoBoost Style   \n",
      "1033                    Fiat Egea Cross 1.4 Fire Urban   \n",
      "834                              Audi A6 Sedan 2.0 TDI   \n",
      "347                          Ford Trucks Transit 350 M   \n",
      "197          Mercedes - Benz C 200 d BlueTEC Exclusive   \n",
      "565                                    Tofaş Doğan SLX   \n",
      "1439                     Dacia Dokker 1.5 DCi Ambiance   \n",
      "208                        Ford Focus 1.5 TDCi Trend X   \n",
      "536                         Renault Megane 1.3 TCe Joy   \n",
      "940                                              Baoli   \n",
      "161                Ford Trucks Cargo 2520 D18 DS (4x2)   \n",
      "1287                Volkswagen Arteon 2.0 TDI Elegance   \n",
      "984                                  Fiat Ducato 13 m³   \n",
      "1522                            Kia Cerato 1.5 CRDi LX   \n",
      "1523                            Peugeot Bipper 1.4 HDI   \n",
      "1442                                       Peugeot 407   \n",
      "1524                                  Volkswagen Caddy   \n",
      "746                       Kia Sportage 2.0 CRDi 4x4 EX   \n",
      "856                       Renault Clio 1.2 Authentique   \n",
      "454                 Jeep Renegade 1.6 MultiJet Limited   \n",
      "160                    Volkswagen T-Cross 1.0 TSI Life   \n",
      "1288                         BMW X5 25d xDrive Premium   \n",
      "471               BMW 4 Serisi 418i Gran Coupe M Sport   \n",
      "252                        Hyundai i20 1.0 T-GDI Style   \n",
      "681                         Ford Fiesta 1.4 TDCi Trend   \n",
      "1331    DS Automobiles DS7 Crossback 1.5 BlueHDI Opera   \n",
      "666                          BMW 3 Serisi 320i M Sport   \n",
      "23      Volkswagen Golf 1.6 TDi BlueMotion Comfortline   \n",
      "1429               Volkswagen Polo 1.4 TDi Comfortline   \n",
      "787                   Honda VFR 1200 X CrossTourer DCT   \n",
      "967                        Renault Taliant 1.0 Tce Joy   \n",
      "\n",
      "                                            model_detay  model_yili    fiyat  \\\n",
      "987                     BOYASIZ FULL PAKET TOYOTA AURİS        2010   592000   \n",
      "902   2016 A3 SEDAN DİZEL OTOMATİK HATASIZ CAM TAVAN...        2016  1395000   \n",
      "781                   90 cm kapaklı hatasız 2012 ÇİNLER        2012   375000   \n",
      "465   Galeriden Peugeot 308 1.6 THP Feeline Plus 201...        2011   685000   \n",
      "557   DEMİRCAN'DAN Boyasız C5 Aircross 1.5 BlueHDI EAT8        2023  1639000   \n",
      "1232  BLL AUTO | 2019 MEGANE TOUCH OTOMATİK TESLA EK...        2019   970000   \n",
      "123          ZEY-MİR DEN 2017 MODEL 2018 ÇIKIŞLI DOLUSU        2017  1010000   \n",
      "1050  HATASIZ BOL EXTRALI ANINDA KREDİ-KREDİ KARTINA...        2024  1940000   \n",
      "312    Sahibinden Renault Megane 1.6 Extreme 2010 Model        2010   450000   \n",
      "793   135BİN KM HATASIZ MEULBOURNE RED LCI NBT 19 JA...        2013  1465000   \n",
      "1156  Taksit seçeneği ile Volkswagen Caddy 1.6 TDI M...        2015   500000   \n",
      "1215  Galeriden Fiat Egea 1.3 Multijet Easy 2021 Mod...        2021   705000   \n",
      "142               Hatasız Leon (Kredi kartı geçerlidir)        2017  1025000   \n",
      "141     İKİKA'DAN 2014 C180 FASCİNATİON 7G-TRONİC 156HP        2014  1290000   \n",
      "434   2020 - Doblo Premio Plus 1.6 120 Bg 76.000 Km ...        2020   805000   \n",
      "86    Galeriden Citroen C4 X 1.2 PureTech Shine 2023...        2023  1399999   \n",
      "1383       PALLIO 1.4 KLİMA 1998 MODL HATASIZ MASRAFSIZ        1998   260000   \n",
      "665   2020 106.000 KM OTOMOBİL RUHSATLI 1.5 DİZEL 6 ...        2020   675000   \n",
      "879   2020 SKODA SÜPER B BOYASIZ CAM TAVAN İÇİ BEJ K...        2020  2085000   \n",
      "371   2023 MODEL 46 BİN KM HATASIZ BOYASIZ DEĞİŞENSİ...        2023  1269000   \n",
      "1033  2023 EGEA CROSS URBAN SERVİS BAKIMLI 35 BİNKM ...        2023   947500   \n",
      "834           2015 HATASIZ HAYALET/ÇİFT NAVİ/VAKUM/3KOL        2015  1825000   \n",
      "347          2004. 350 KESME PİKAP MUHAYER BAKIMLI ARAÇ        2004   375000   \n",
      "197   BEŞKAZALIOĞLU-2016 MERCEDES C-200 D EXCULUSİVE...        2016  1825000   \n",
      "565   1997 MODEL DOĞAN SLX ORJİNAL YENİ VİZE FULL TE...        1997   285000   \n",
      "1439  SKY PREMIUM CARS 2019 DACIA DOKKER DEĞİŞENSİZ ...        2019   545000   \n",
      "208   HATASIZ FOCUS TREND X 1.5 Eco Blue DİZEL OTOMATİK        2020  1240000   \n",
      "536   2022/MEGANE/TESLA/G.GÖRÜŞ/1.3TCE EDC/HATASIZ T...        2022  1118500   \n",
      "940              RAYHAN OTOMOTİVDEN 2006 MODEL FORKLİFT        2006   399000   \n",
      "161   Sahibinden Ford Frigofrik thermoking Cargo 252...        1998   750000   \n",
      "1287  2017.ARTEON.HATASIZ.ELEGANCE 2.0.DİZEL.OTOMATİ...        2017  1650000   \n",
      "984   MİRHAN OTOMOTİV'DEN 2024 FİAT DUCATO 11.5 m3 H...        2024   985000   \n",
      "1522  Galeriden Kia Cerato 1.5 CRDi LX 2006 Model İzmir        2006   465000   \n",
      "1523  2020 Otomotiv Peugeot Bipper 1.4 HDI 2010 Mode...        2010   270000   \n",
      "1442           HURDA BELGELİ 407 OTOMATİK 2.0 HDİ DİZEL        2005   123000   \n",
      "1524           ER MOTORS dan  Volkswagen Caddy 2010 DSG        2010   265500   \n",
      "746   2008 KİA SPOTAGE 2.0 CRDİ EX 249 BİN KM MASRAF...        2008   685000   \n",
      "856                        BRK OTOMOTİVDEN SATILIK CLİO        2006   355000   \n",
      "454             2019 JEEP RENEGADE 1.6 MULTİJET LİMİTED        2019  1350000   \n",
      "160   Sahibinden Volkswagen T-Cross 1.0 TSI Life 202...        2024  1385000   \n",
      "1288  HATASIZ TRAMERSİZ E.BAGAJ VAKUM HAYALET EKRAN ...        2015  2450000   \n",
      "471   BAZAAR AUTO DAN ESTROİL BLUE 2015 M SPORT 418i...        2015  1350000   \n",
      "252   OTOSİZE'DEN 2023 HYUNDAİ İ20 1.0TGDİ STYLE HAT...        2023  1195000   \n",
      "681    Sahibinden Ford Fiesta 1.4 TDCi Trend 2010 Model        2010   460000   \n",
      "1331               DS7 Crossback 1.5 BlueHDI Opera 2023        2023  2260000   \n",
      "666   HACILAR-2022 BMW 320i M-SPORT BOYASIZ 50.YIL L...        2022  3025000   \n",
      "23    İLK EL YETKİLİ SERVİS BAKIMLI 1.6 DİZEL OTOMAT...        2015   970000   \n",
      "1429          2014 MODEL DİZEL OTOMATİK 154.000 KM POLO        2014   745000   \n",
      "787       DOLULAR DOLUSU FUL AKSESUAR VOLMETS MOTORSDAN        2016   629900   \n",
      "967   2022 RENAULT TALİANT *OTOMATİK VİTES*%20 FATUR...        2022   839750   \n",
      "\n",
      "               sehir          ilce   ilan_turu      tip       marka  \\\n",
      "987          Kayseri     Kocasinan   galeriden  satilik      toyota   \n",
      "902           Ankara        Akyurt   galeriden  satilik        audi   \n",
      "781           Burdur         Bucak   galeriden  satilik      ticari   \n",
      "465          Antalya     Muratpaşa   galeriden  satilik     peugeot   \n",
      "557          Antalya     Muratpaşa   galeriden  satilik     citroen   \n",
      "1232          Mardin      Nusaybin   galeriden  satilik     renault   \n",
      "123           Ankara        Sincan   galeriden  satilik        opel   \n",
      "1050        Kırşehir        Merkez   galeriden  satilik     renault   \n",
      "312       Diyarbakır        Bağlar  sahibinden  satilik     renault   \n",
      "793        Balıkesir       Edremit   galeriden  satilik         bmw   \n",
      "1156        İstanbul  Bahçelievler  sahibinden  satilik  volkswagen   \n",
      "1215          Elazığ        Merkez   galeriden  satilik        fiat   \n",
      "142       Diyarbakır     Kayapınar   galeriden  satilik        seat   \n",
      "141        Çanakkale        Merkez   galeriden  satilik    mercedes   \n",
      "434           Yalova        Merkez   galeriden  satilik        fiat   \n",
      "86            Ankara   Yenimahalle   galeriden  satilik     citroen   \n",
      "1383            Uşak        Merkez   galeriden  satilik        fiat   \n",
      "665          Kocaeli         İzmit   galeriden  satilik        ford   \n",
      "879           Mardin     Kızıltepe   galeriden  satilik       skoda   \n",
      "371            İzmir    Karabağlar   galeriden  satilik        ford   \n",
      "1033         Kütahya        Merkez   galeriden  satilik        fiat   \n",
      "834            İzmir      Gaziemir   galeriden  satilik        audi   \n",
      "347            Hatay       Antakya   galeriden  satilik        ford   \n",
      "197            Muğla       Fethiye   galeriden  satilik    mercedes   \n",
      "565            Aydın       Nazilli   galeriden  satilik       tofas   \n",
      "1439        İstanbul   Sultanbeyli   galeriden  satilik       dacia   \n",
      "208           Ankara     Etimesgut   galeriden  satilik        ford   \n",
      "536            İzmir      Bayraklı   galeriden  satilik     renault   \n",
      "940            Adana        Seyhan   galeriden  satilik       baoli   \n",
      "161          Karaman        Merkez  sahibinden  satilik        ford   \n",
      "1287      Diyarbakır         Çınar   galeriden  satilik  volkswagen   \n",
      "984         İstanbul      Bağcılar   galeriden  satilik        fiat   \n",
      "1522           İzmir       Balçova   galeriden  satilik         kia   \n",
      "1523         Denizli  Merkezefendi   galeriden  satilik     peugeot   \n",
      "1442         Kayseri     Kocasinan   galeriden  satilik     peugeot   \n",
      "1524        İstanbul      Ümraniye   galeriden  satilik  volkswagen   \n",
      "746           Ankara        Akyurt   galeriden  satilik         kia   \n",
      "856            Aydın          Söke   galeriden  satilik     renault   \n",
      "454           Ankara      Altındağ   galeriden  satilik        jeep   \n",
      "160           Ankara       Çankaya  sahibinden  satilik  volkswagen   \n",
      "1288           Düzce        Merkez   galeriden  satilik         bmw   \n",
      "471          Kayseri     Kocasinan   galeriden  satilik         bmw   \n",
      "252            Konya       Karatay   galeriden  satilik     hyundai   \n",
      "681        Gaziantep         Nizip  sahibinden  satilik        ford   \n",
      "1331           İzmir          Buca   galeriden  satilik          ds   \n",
      "666            Konya       Karatay   galeriden  satilik         bmw   \n",
      "23            Elazığ        Merkez   galeriden  satilik  volkswagen   \n",
      "1429  Afyonkarahisar      Sandıklı   galeriden  satilik  volkswagen   \n",
      "787          Denizli  Merkezefendi   galeriden  satilik       honda   \n",
      "967         İstanbul    Eyüpsultan   galeriden  satilik     renault   \n",
      "\n",
      "        motor_hacmi      motor_tipi      donanim  \n",
      "987            1.33         comfort   bilinmiyor  \n",
      "902         sedan.1               6          tdi  \n",
      "781      dorse.kuru             yuk      kapakli  \n",
      "465             1.6             thp      feeline  \n",
      "557      aircross.1               5      bluehdi  \n",
      "1232            1.5             dci        touch  \n",
      "123             1.6            cdti        grand  \n",
      "1050            1.6               e         tech  \n",
      "312             1.6         extreme   bilinmiyor  \n",
      "793     serisi.316i               m        sport  \n",
      "1156            1.6             tdi         maxi  \n",
      "1215            1.3        multijet         easy  \n",
      "142             1.6             tdi        style  \n",
      "141           c.180  blueefficiency  fascination  \n",
      "434      panorama.1               6     multijet  \n",
      "86              x.1               2     puretech  \n",
      "1383            1.4              el   bilinmiyor  \n",
      "665       courier.1               5         tdci  \n",
      "879             1.6             tdi     prestige  \n",
      "371             1.0        ecoboost        style  \n",
      "1033        cross.1               4         fire  \n",
      "834         sedan.2               0          tdi  \n",
      "347     transit.350               m   bilinmiyor  \n",
      "197           c.200               d      bluetec  \n",
      "565      bilinmiyor      bilinmiyor   bilinmiyor  \n",
      "1439            1.5             dci     ambiance  \n",
      "208             1.5            tdci        trend  \n",
      "536             1.3             tce          joy  \n",
      "940      bilinmiyor      bilinmiyor   bilinmiyor  \n",
      "161      cargo.2520             d18           ds  \n",
      "1287            2.0             tdi     elegance  \n",
      "984           13.m3      bilinmiyor   bilinmiyor  \n",
      "1522            1.5            crdi           lx  \n",
      "1523            1.4             hdi   bilinmiyor  \n",
      "1442     bilinmiyor      bilinmiyor   bilinmiyor  \n",
      "1524     bilinmiyor      bilinmiyor   bilinmiyor  \n",
      "746             2.0            crdi          4x4  \n",
      "856             1.2     authentique   bilinmiyor  \n",
      "454             1.6        multijet      limited  \n",
      "160         cross.1               0          tsi  \n",
      "1288     25d.xdrive         premium   bilinmiyor  \n",
      "471     serisi.418i            gran        coupe  \n",
      "252             1.0               t          gdi  \n",
      "681             1.4            tdci        trend  \n",
      "1331  ds7.crossback               1            5  \n",
      "666     serisi.320i               m        sport  \n",
      "23              1.6             tdi   bluemotion  \n",
      "1429            1.4             tdi  comfortline  \n",
      "787          1200.x     crosstourer          dct  \n",
      "967             1.0             tce          joy  \n"
     ]
    }
   ],
   "source": [
    "pd.set_option(\"display.max_columns\", None)  # Show all columns\n",
    "print(df.sample(50))\n"
   ]
  },
  {
   "cell_type": "code",
   "execution_count": 96,
   "id": "48b02636",
   "metadata": {},
   "outputs": [],
   "source": [
    "df.to_csv(\"temizlenmis_arac_verisi.csv\", index=False)"
   ]
  }
 ],
 "metadata": {
  "kernelspec": {
   "display_name": "Python 3",
   "language": "python",
   "name": "python3"
  },
  "language_info": {
   "codemirror_mode": {
    "name": "ipython",
    "version": 3
   },
   "file_extension": ".py",
   "mimetype": "text/x-python",
   "name": "python",
   "nbconvert_exporter": "python",
   "pygments_lexer": "ipython3",
   "version": "3.8.7"
  }
 },
 "nbformat": 4,
 "nbformat_minor": 5
}
