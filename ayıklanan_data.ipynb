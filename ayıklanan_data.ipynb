{
 "cells": [
  {
   "cell_type": "markdown",
   "id": "23a4790b",
   "metadata": {},
   "source": [
    "#İkinci El Araç Tahmin uYGULAMASI"
   ]
  },
  {
   "cell_type": "code",
   "execution_count": 190,
   "id": "e03fd952",
   "metadata": {},
   "outputs": [],
   "source": [
    "import os\n",
    "import numpy as np\n",
    "import pandas as pd"
   ]
  },
  {
   "cell_type": "code",
   "execution_count": 191,
   "id": "3dbe53b7",
   "metadata": {},
   "outputs": [],
   "source": [
    "df = pd.read_csv(\"kudet_arac_degerleme/data/arabamcom_merged.csv\")"
   ]
  },
  {
   "cell_type": "code",
   "execution_count": 192,
   "id": "28b53db6",
   "metadata": {},
   "outputs": [
    {
     "name": "stdout",
     "output_type": "stream",
     "text": [
      "['smallest-text-minus href', 'listing-image src', 'listing-text-new', 'listing-text-new 2', 'fade-out-content-wrapper', 'fade-out-content-wrapper href 2', 'db', 'fade-out-content-wrapper 2', 'fade-out-content-wrapper 3', 'fade-out-content-wrapper 4']\n"
     ]
    }
   ],
   "source": [
    "print(df.columns.tolist())"
   ]
  },
  {
   "cell_type": "code",
   "execution_count": 193,
   "id": "5c52eb10",
   "metadata": {},
   "outputs": [
    {
     "name": "stdout",
     "output_type": "stream",
     "text": [
      "<class 'pandas.core.frame.DataFrame'>\n",
      "RangeIndex: 1565 entries, 0 to 1564\n",
      "Data columns (total 10 columns):\n",
      " #   Column                           Non-Null Count  Dtype \n",
      "---  ------                           --------------  ----- \n",
      " 0   smallest-text-minus href         1565 non-null   object\n",
      " 1   listing-image src                1565 non-null   object\n",
      " 2   listing-text-new                 1565 non-null   object\n",
      " 3   listing-text-new 2               1565 non-null   object\n",
      " 4   fade-out-content-wrapper         1565 non-null   int64 \n",
      " 5   fade-out-content-wrapper href 2  1441 non-null   object\n",
      " 6   db                               1565 non-null   object\n",
      " 7   fade-out-content-wrapper 2       1180 non-null   object\n",
      " 8   fade-out-content-wrapper 3       1562 non-null   object\n",
      " 9   fade-out-content-wrapper 4       1562 non-null   object\n",
      "dtypes: int64(1), object(9)\n",
      "memory usage: 122.4+ KB\n",
      "None\n"
     ]
    }
   ],
   "source": [
    "print(df.info())"
   ]
  },
  {
   "cell_type": "code",
   "execution_count": 194,
   "id": "bdb84cd0",
   "metadata": {},
   "outputs": [
    {
     "name": "stdout",
     "output_type": "stream",
     "text": [
      "Index(['smallest-text-minus href', 'listing-image src', 'listing-text-new',\n",
      "       'listing-text-new 2', 'fade-out-content-wrapper',\n",
      "       'fade-out-content-wrapper href 2', 'db', 'fade-out-content-wrapper 2',\n",
      "       'fade-out-content-wrapper 3', 'fade-out-content-wrapper 4'],\n",
      "      dtype='object')\n"
     ]
    }
   ],
   "source": [
    "print(df.columns)"
   ]
  },
  {
   "cell_type": "code",
   "execution_count": 198,
   "id": "1a1d1cd0",
   "metadata": {},
   "outputs": [],
   "source": [
    "# Gereksiz sütunları sil\n",
    "df.drop(columns=[\n",
    "    'listing-image src',\n",
    "    'fade-out-content-wrapper href 2',\n",
    "    'fade-out-content-wrapper 2'\n",
    "], inplace=True, errors='ignore')\n",
    "\n",
    "# Sütunları yeniden adlandır\n",
    "df.rename(columns={\n",
    "    'smallest-text-minus href': 'ilan_linki',\n",
    "    'listing-text-new': 'model',\n",
    "    'listing-text-new 2': 'model_detay',\n",
    "    'fade-out-content-wrapper': 'model_yili',\n",
    "    'db': 'fiyat',\n",
    "    'fade-out-content-wrapper 3': 'sehir',\n",
    "    'fade-out-content-wrapper 4': 'ilce'\n",
    "}, inplace=True)\n"
   ]
  },
  {
   "cell_type": "code",
   "execution_count": 199,
   "id": "836bbe35",
   "metadata": {},
   "outputs": [
    {
     "name": "stdout",
     "output_type": "stream",
     "text": [
      "<class 'pandas.core.frame.DataFrame'>\n",
      "RangeIndex: 1565 entries, 0 to 1564\n",
      "Data columns (total 7 columns):\n",
      " #   Column       Non-Null Count  Dtype \n",
      "---  ------       --------------  ----- \n",
      " 0   ilan_linki   1565 non-null   object\n",
      " 1   model        1565 non-null   object\n",
      " 2   model_detay  1565 non-null   object\n",
      " 3   model_yili   1565 non-null   int64 \n",
      " 4   fiyat        1565 non-null   object\n",
      " 5   sehir        1562 non-null   object\n",
      " 6   ilce         1562 non-null   object\n",
      "dtypes: int64(1), object(6)\n",
      "memory usage: 85.7+ KB\n",
      "None\n"
     ]
    }
   ],
   "source": [
    "print(df.info())\n"
   ]
  },
  {
   "cell_type": "code",
   "execution_count": 200,
   "id": "dd8b4bb6",
   "metadata": {},
   "outputs": [
    {
     "name": "stdout",
     "output_type": "stream",
     "text": [
      "['1.350.000 TL' '1.025.000 TL' '1.910.900 TL' '1.119.900 TL'\n",
      " '1.179.900 TL' '439.000 TL' '2.100.000 TL' '2.250.000 TL' '1.850.000 TL'\n",
      " '2.799.000 TL']\n"
     ]
    }
   ],
   "source": [
    "print(df[\"fiyat\"].unique()[:10])  # ilk 10 farklı değeri göster"
   ]
  },
  {
   "cell_type": "code",
   "execution_count": 201,
   "id": "9c7fe721",
   "metadata": {},
   "outputs": [],
   "source": [
    "# TL simgelerini ve boşlukları kaldır, sonra sayıya çevir\n",
    "df[\"fiyat\"] = df[\"fiyat\"].astype(str).str.replace(\"[^0-9]\", \"\", regex=True)\n",
    "df[\"fiyat\"] = pd.to_numeric(df[\"fiyat\"], errors=\"coerce\")"
   ]
  },
  {
   "cell_type": "code",
   "execution_count": 202,
   "id": "9a074fff",
   "metadata": {},
   "outputs": [
    {
     "name": "stdout",
     "output_type": "stream",
     "text": [
      "0    1350000\n",
      "1    1025000\n",
      "2    1910900\n",
      "3    1119900\n",
      "4    1179900\n",
      "5     439000\n",
      "6    2100000\n",
      "7    2250000\n",
      "8    1850000\n",
      "9    2799000\n",
      "Name: fiyat, dtype: int64\n",
      "int64\n",
      "0\n"
     ]
    }
   ],
   "source": [
    "print(df[\"fiyat\"].head(10))\n",
    "print(df[\"fiyat\"].dtype)\n",
    "print(df[\"fiyat\"].isnull().sum())  # kaç tanesi NaN olmuş"
   ]
  },
  {
   "cell_type": "code",
   "execution_count": 206,
   "id": "945b297b",
   "metadata": {},
   "outputs": [],
   "source": [
    "def parse_ilan_link(link):\n",
    "    try:\n",
    "        if not isinstance(link, str):\n",
    "            return {}\n",
    "\n",
    "        parts = link.split(\"/\")\n",
    "        if len(parts) < 5:\n",
    "            return {}\n",
    "\n",
    "        segment = parts[4]\n",
    "        pieces = segment.split(\"-\")\n",
    "\n",
    "        return {\n",
    "            \"ilan_turu\": pieces[0] if len(pieces) > 0 else None,\n",
    "            \"tip\": pieces[1] if len(pieces) > 1 else None,\n",
    "            \"marka\": pieces[2] if len(pieces) > 2 else None,\n",
    "            \"model\": pieces[3] if len(pieces) > 3 else None,\n",
    "            \"motor_hacmi\": \".\".join(pieces[4:6]) if len(pieces) > 5 else None,\n",
    "            \"motor_tipi\": pieces[6] if len(pieces) > 6 else None,\n",
    "            \"donanim\": pieces[7] if len(pieces) > 7 else None,\n",
    "            \"donanim_detay\": pieces[8] if len(pieces) > 8 else None,\n",
    "            \"model_yili\": pieces[9] if len(pieces) > 9 else None,\n",
    "            \"yakit\": pieces[10] if len(pieces) > 10 else None,\n",
    "            \"vites\": pieces[11] if len(pieces) > 11 else None\n",
    "        }\n",
    "    except Exception as e:\n",
    "        print(\"Hata:\", e)\n",
    "        return {}\n"
   ]
  },
  {
   "cell_type": "code",
   "execution_count": 207,
   "id": "cb81cc34",
   "metadata": {},
   "outputs": [],
   "source": [
    "parsed_df = df[\"ilan_linki\"].apply(parse_ilan_link).apply(pd.Series)\n",
    "df = pd.concat([df, parsed_df], axis=1)\n",
    "df = df.loc[:, ~df.columns.duplicated()]\n",
    "\n"
   ]
  },
  {
   "cell_type": "code",
   "execution_count": 208,
   "id": "867fe87e",
   "metadata": {},
   "outputs": [
    {
     "name": "stdout",
     "output_type": "stream",
     "text": [
      "          marka                                             model motor_hacmi  \\\n",
      "465     peugeot                  Peugeot 308 1.6 THP Feeline Plus         1.6   \n",
      "215     renault                           Renault Captur 1.2 Icon         1.2   \n",
      "709  volkswagen  Volkswagen Passat 1.4 TSi BlueMotion Comfortline         1.4   \n",
      "726     citroen                         Citroen C3 1.4 Attraction         1.4   \n",
      "866        fiat                     Fiat Doblo Cargo 1.6 Multijet     cargo.1   \n",
      "\n",
      "    vites  \n",
      "465  None  \n",
      "215  None  \n",
      "709  None  \n",
      "726  None  \n",
      "866  None  \n"
     ]
    }
   ],
   "source": [
    "print(df[[\"marka\", \"model\", \"motor_hacmi\", \"vites\"]].sample(5))\n"
   ]
  },
  {
   "cell_type": "code",
   "execution_count": 209,
   "id": "5ede1dee",
   "metadata": {},
   "outputs": [
    {
     "name": "stdout",
     "output_type": "stream",
     "text": [
      "Index(['ilan_linki', 'model', 'model_detay', 'model_yili', 'fiyat', 'sehir',\n",
      "       'ilce', 'ilan_turu', 'tip', 'marka', 'motor_hacmi', 'motor_tipi',\n",
      "       'donanim', 'donanim_detay', 'yakit', 'vites'],\n",
      "      dtype='object')\n"
     ]
    }
   ],
   "source": [
    "print(df.columns)"
   ]
  },
  {
   "cell_type": "code",
   "execution_count": 210,
   "id": "7b78e1cc",
   "metadata": {},
   "outputs": [
    {
     "name": "stdout",
     "output_type": "stream",
     "text": [
      "['jeep' 'hyundai' 'chery' 'fiat' 'renault' 'mercedes' 'volvo' 'nissan'\n",
      " 'skoda' 'peugeot' 'seat' 'audi' 'bmw' 'volkswagen' 'toyota' 'honda'\n",
      " 'citroen' 'ford' 'tofas' 'opel' 'ssangyong' 'land' 'kia' 'dacia' 'iveco'\n",
      " 'porsche' 'mitsubishi' 'yamaha' 'river' 'jaguar' 'kuba' 'chevrolet'\n",
      " 'maserati' 'ticari' 'bajaj' 'mini' 'tvs' 'baoli' 'togg' 'karsan' 'kral'\n",
      " 'skywell' 'alfa' 'car' 'mazda' 'mg' 'revolt' 'isuzu' 'smart' 'ds' 'new'\n",
      " 'universal' 'yuki' 'suzuki' 'otokar' 'yiben' 'lamborghini']\n",
      "[2019 2013 2024 2022 2017 2012 2021 1997 2011 2014 2015 2025 2023 2016\n",
      " 2018 2003 2020 2010 1993 2009 2007 2000 2005 2006 1988 1998 1999 1992\n",
      " 2004 2008 1994 2001 1991 1996 1990 2002 1995]\n",
      "0       None\n",
      "1       None\n",
      "2       None\n",
      "3       None\n",
      "4       None\n",
      "        ... \n",
      "1560    None\n",
      "1561    None\n",
      "1562    None\n",
      "1563    None\n",
      "1564    None\n",
      "Name: vites, Length: 1565, dtype: object\n"
     ]
    }
   ],
   "source": [
    "print(df['marka'].unique())\n",
    "print(df['model_yili'].unique())\n",
    "print(df['vites']\n",
    ")"
   ]
  },
  {
   "cell_type": "code",
   "execution_count": 211,
   "id": "f52ac87a",
   "metadata": {},
   "outputs": [
    {
     "name": "stdout",
     "output_type": "stream",
     "text": [
      "['ilan_linki', 'model', 'model_detay', 'model_yili', 'fiyat', 'sehir', 'ilce', 'ilan_turu', 'tip', 'marka', 'motor_hacmi', 'motor_tipi', 'donanim', 'donanim_detay', 'yakit', 'vites']\n"
     ]
    }
   ],
   "source": [
    "print(df.columns.tolist())"
   ]
  },
  {
   "cell_type": "code",
   "execution_count": 212,
   "id": "833e2927",
   "metadata": {},
   "outputs": [
    {
     "name": "stdout",
     "output_type": "stream",
     "text": [
      "ilan_linki          0\n",
      "model               0\n",
      "model_detay         0\n",
      "model_yili          0\n",
      "fiyat               0\n",
      "sehir               3\n",
      "ilce                3\n",
      "ilan_turu           0\n",
      "tip                 0\n",
      "marka               0\n",
      "motor_hacmi        68\n",
      "motor_tipi        105\n",
      "donanim           354\n",
      "donanim_detay    1008\n",
      "yakit            1556\n",
      "vites            1561\n",
      "dtype: int64\n"
     ]
    }
   ],
   "source": [
    "print(df.isnull().sum())\n"
   ]
  },
  {
   "cell_type": "code",
   "execution_count": 213,
   "id": "be1972bf",
   "metadata": {},
   "outputs": [],
   "source": [
    "df.drop(columns=[\"vites\", \"yakit\", \"donanim_detay\"], inplace=True)\n"
   ]
  },
  {
   "cell_type": "code",
   "execution_count": 214,
   "id": "ff266afc",
   "metadata": {},
   "outputs": [],
   "source": [
    "df[\"motor_hacmi\"].fillna(\"bilinmiyor\", inplace=True)\n",
    "df[\"motor_tipi\"].fillna(\"bilinmiyor\", inplace=True)\n",
    "df[\"donanim\"].fillna(\"bilinmiyor\", inplace=True)\n"
   ]
  },
  {
   "cell_type": "code",
   "execution_count": 215,
   "id": "e0c3ee48",
   "metadata": {},
   "outputs": [
    {
     "name": "stdout",
     "output_type": "stream",
     "text": [
      "ilan_linki     0\n",
      "model          0\n",
      "model_detay    0\n",
      "model_yili     0\n",
      "fiyat          0\n",
      "sehir          3\n",
      "ilce           3\n",
      "ilan_turu      0\n",
      "tip            0\n",
      "marka          0\n",
      "motor_hacmi    0\n",
      "motor_tipi     0\n",
      "donanim        0\n",
      "dtype: int64\n",
      "(1565, 13)\n"
     ]
    }
   ],
   "source": [
    "print(df.isnull().sum())\n",
    "print(df.shape)\n"
   ]
  },
  {
   "cell_type": "code",
   "execution_count": 216,
   "id": "7789f07b",
   "metadata": {},
   "outputs": [
    {
     "name": "stdout",
     "output_type": "stream",
     "text": [
      "(1551, 13)\n",
      "        model_yili         fiyat\n",
      "count  1551.000000  1.551000e+03\n",
      "mean   2014.214055  1.117144e+06\n",
      "std       7.178504  2.815328e+06\n",
      "min    1988.000000  1.050000e+05\n",
      "25%    2011.000000  5.342500e+05\n",
      "50%    2015.000000  8.050000e+05\n",
      "75%    2020.000000  1.227500e+06\n",
      "max    2025.000000  6.200000e+07\n"
     ]
    }
   ],
   "source": [
    "df = df[(df[\"model_yili\"] >= 1980) & (df[\"fiyat\"] >= 100000)]\n",
    "print(df.shape)\n",
    "print(df[[\"model_yili\", \"fiyat\"]].describe())\n"
   ]
  },
  {
   "cell_type": "code",
   "execution_count": 217,
   "id": "ede0aba1",
   "metadata": {},
   "outputs": [
    {
     "name": "stdout",
     "output_type": "stream",
     "text": [
      "Index(['ilan_linki', 'model', 'model_detay', 'model_yili', 'fiyat', 'sehir',\n",
      "       'ilce', 'ilan_turu', 'tip', 'marka', 'motor_hacmi', 'motor_tipi',\n",
      "       'donanim'],\n",
      "      dtype='object')\n"
     ]
    }
   ],
   "source": [
    "print(df.columns)"
   ]
  },
  {
   "cell_type": "code",
   "execution_count": 218,
   "id": "0f64bead",
   "metadata": {},
   "outputs": [
    {
     "name": "stdout",
     "output_type": "stream",
     "text": [
      "<class 'pandas.core.frame.DataFrame'>\n",
      "Index: 1551 entries, 0 to 1564\n",
      "Data columns (total 13 columns):\n",
      " #   Column       Non-Null Count  Dtype \n",
      "---  ------       --------------  ----- \n",
      " 0   ilan_linki   1551 non-null   object\n",
      " 1   model        1551 non-null   object\n",
      " 2   model_detay  1551 non-null   object\n",
      " 3   model_yili   1551 non-null   int64 \n",
      " 4   fiyat        1551 non-null   int64 \n",
      " 5   sehir        1548 non-null   object\n",
      " 6   ilce         1548 non-null   object\n",
      " 7   ilan_turu    1551 non-null   object\n",
      " 8   tip          1551 non-null   object\n",
      " 9   marka        1551 non-null   object\n",
      " 10  motor_hacmi  1551 non-null   object\n",
      " 11  motor_tipi   1551 non-null   object\n",
      " 12  donanim      1551 non-null   object\n",
      "dtypes: int64(2), object(11)\n",
      "memory usage: 169.6+ KB\n",
      "None\n"
     ]
    }
   ],
   "source": [
    "print(df.info())"
   ]
  },
  {
   "cell_type": "code",
   "execution_count": 219,
   "id": "5168651a",
   "metadata": {},
   "outputs": [],
   "source": [
    "df.drop(columns=[\"ilan_linki\"], inplace=True)\n"
   ]
  },
  {
   "cell_type": "code",
   "execution_count": 220,
   "id": "8845e093",
   "metadata": {},
   "outputs": [
    {
     "name": "stdout",
     "output_type": "stream",
     "text": [
      "Index(['model', 'model_detay', 'model_yili', 'fiyat', 'sehir', 'ilce',\n",
      "       'ilan_turu', 'tip', 'marka', 'motor_hacmi', 'motor_tipi', 'donanim'],\n",
      "      dtype='object')\n"
     ]
    }
   ],
   "source": [
    "print(df.columns)"
   ]
  },
  {
   "cell_type": "code",
   "execution_count": 221,
   "id": "85f046ad",
   "metadata": {},
   "outputs": [
    {
     "name": "stdout",
     "output_type": "stream",
     "text": [
      "<class 'pandas.core.frame.DataFrame'>\n",
      "Index: 1551 entries, 0 to 1564\n",
      "Data columns (total 12 columns):\n",
      " #   Column       Non-Null Count  Dtype \n",
      "---  ------       --------------  ----- \n",
      " 0   model        1551 non-null   object\n",
      " 1   model_detay  1551 non-null   object\n",
      " 2   model_yili   1551 non-null   int64 \n",
      " 3   fiyat        1551 non-null   int64 \n",
      " 4   sehir        1548 non-null   object\n",
      " 5   ilce         1548 non-null   object\n",
      " 6   ilan_turu    1551 non-null   object\n",
      " 7   tip          1551 non-null   object\n",
      " 8   marka        1551 non-null   object\n",
      " 9   motor_hacmi  1551 non-null   object\n",
      " 10  motor_tipi   1551 non-null   object\n",
      " 11  donanim      1551 non-null   object\n",
      "dtypes: int64(2), object(10)\n",
      "memory usage: 157.5+ KB\n",
      "None\n"
     ]
    }
   ],
   "source": [
    "print(df.info())"
   ]
  },
  {
   "cell_type": "code",
   "execution_count": 222,
   "id": "43e0e4e5",
   "metadata": {},
   "outputs": [],
   "source": [
    "# En sık geçen şehir ve ilçe değerlerini al\n",
    "sehir_mode = df[\"sehir\"].mode()[0]\n",
    "ilce_mode = df[\"ilce\"].mode()[0]\n",
    "\n",
    "# Eksik olanları bunlarla doldur\n",
    "df[\"sehir\"].fillna(sehir_mode, inplace=True)\n",
    "df[\"ilce\"].fillna(ilce_mode, inplace=True)\n"
   ]
  },
  {
   "cell_type": "code",
   "execution_count": 223,
   "id": "68bd9d08",
   "metadata": {},
   "outputs": [
    {
     "name": "stdout",
     "output_type": "stream",
     "text": [
      "sehir    0\n",
      "ilce     0\n",
      "dtype: int64\n"
     ]
    }
   ],
   "source": [
    "print(df[[\"sehir\", \"ilce\"]].isnull().sum())"
   ]
  },
  {
   "cell_type": "code",
   "execution_count": 226,
   "id": "f2f8468b",
   "metadata": {},
   "outputs": [
    {
     "name": "stdout",
     "output_type": "stream",
     "text": [
      "['1.6' '8.pro' 'cross.1' '1.5' 'axor.1840' 'sx.2' 'e.180' '1.0' '2.0'\n",
      " 'serisi.520i' '3.0' 'serisi.418i' '1.4' 'bilinmiyor' 'combi.1' '2.4'\n",
      " 'variant.1' '1.8' 'elysee.1' 'sedan.1' '1.3' 'sedan.35' 'courier.1'\n",
      " '19.1' 'aircross.1' 'sportback.45' 'serisi.216d' 'city.1' 'e.200' 'e.300'\n",
      " 'freelander.2' 'express.1' '3.2' '1.2' 'blue.1' '1.33' 'x.1'\n",
      " 'serisi.316i' 'trail.1' 'connect.1' 'hr.1' '2.3' '72.160' 'gt3.rs'\n",
      " '300.city' '0.9' 'a.180' 'sportback.1' 'c.180' 'serisi.320i' 'cargo.2520'\n",
      " '9.1' 'evo.1' 'sedan.2' 'cargo.1' 'c.200' 'cla.200' '16d.sdrive' '2.2'\n",
      " 'roc.1' '2.7' 'sportback.2' 'up.4wd' 'v.2' 'range.evoque' 'serisi.520d'\n",
      " 'serisi.730d' '2.5' 'serisi.m5' 'canter.8bl' 'dorse.kuru' '1200.x'\n",
      " '200.rs' '300.s' 'transit.350' 'eqb.250' 'e.220' 'transit.14'\n",
      " 'transit.16' 'panorama.1' 'countryman.1' 's.350' '1.9' 'transit.t330'\n",
      " '1.6d' '1.25' 'glk.220' '15.1' 'kr.305' '13.m3' 'serisi.320d' 'glc.350'\n",
      " 'cherokee.5' 'serisi.318d' 'premium.plus' 'serisi.116i' 'era.1'\n",
      " 'multix.1' 'tonale.1' 'a.200' '250.d' 'serisi.316ti' '5.vites' '400.ug'\n",
      " 'ailesi.500l' '20d.xdrive' '2.1' 'serisi.116d' 'range.3' 'eqs.53'\n",
      " 'sole.1' 'x.250' '147.1' '25d.xdrive' '300.camli' 'troy.1' '350.m'\n",
      " '7.pro' 'avant.2' 'ds7.crossback' 'ds9.1' 'serisi.i5' 'sedan.40'\n",
      " 'connect.k210' 'grande.1' '5.1' '12.toros' '300.te' 'thor.450'\n",
      " 'serisi.118i' '1.1' '85.85' 's.cross' '1.7' 'serisi.i4' 'uzun.sasi'\n",
      " '10.long' 'sportback.35' 'e.favoured' 'e.tron' 'lp.580' 'cherokee.3']\n"
     ]
    }
   ],
   "source": [
    "# Benzersiz motor hacmi değerlerini al, boş olmayanları sırala\n",
    "print(df[\"motor_hacmi\"].dropna().unique())"
   ]
  },
  {
   "cell_type": "code",
   "execution_count": 227,
   "id": "c2a943e1",
   "metadata": {},
   "outputs": [
    {
     "name": "stdout",
     "output_type": "stream",
     "text": [
      "motor_hacmi\n",
      "1.6            302\n",
      "1.5            198\n",
      "1.4            150\n",
      "1.3            106\n",
      "1.2             89\n",
      "combi.1         61\n",
      "bilinmiyor      55\n",
      "2.0             50\n",
      "1.0             48\n",
      "cross.1         21\n",
      "courier.1       17\n",
      "elysee.1        16\n",
      "connect.1       16\n",
      "sedan.2         15\n",
      "sedan.1         13\n",
      "serisi.320i     13\n",
      "cargo.1         13\n",
      "1.9             12\n",
      "1.8             12\n",
      "serisi.520i     11\n",
      "c.180           11\n",
      "a.180           10\n",
      "e.220           10\n",
      "3.0              9\n",
      "s.350            9\n",
      "aircross.1       9\n",
      "blue.1           8\n",
      "panorama.1       8\n",
      "serisi.316i      7\n",
      "0.9              7\n",
      "Name: count, dtype: int64\n"
     ]
    }
   ],
   "source": [
    "# En çok geçen motor hacmi değerlerini frekansla birlikte göster\n",
    "print(df[\"motor_hacmi\"].value_counts(dropna=False).head(30))  # ilk 30 değer"
   ]
  },
  {
   "cell_type": "code",
   "execution_count": null,
   "id": "112a65d5",
   "metadata": {},
   "outputs": [],
   "source": []
  },
  {
   "cell_type": "code",
   "execution_count": 224,
   "id": "dc911af2",
   "metadata": {},
   "outputs": [
    {
     "name": "stdout",
     "output_type": "stream",
     "text": [
      "                                                 model  \\\n",
      "889                  Renault Megane 1.5 dCi Touch Plus   \n",
      "1186                          Seat Arona 1.0 EcoTSI FR   \n",
      "1496             Ticari Araçlar Dorse Kuru Yük Kapaklı   \n",
      "956                      Renault Fluence 1.5 dCi Touch   \n",
      "1026            Citroen C3 Aircross 1.2 PureTech Shine   \n",
      "954                      Fiat Egea 1.6 Multijet Lounge   \n",
      "110                 Nissan Qashqai 1.5 dCi Design Pack   \n",
      "607                  Renault Fluence 1.5 dCi Privilege   \n",
      "1343                 Audi A3 Sedan 1.4 TFSI Attraction   \n",
      "851              Volkswagen Tiguan 1.4 TSI Sport&Style   \n",
      "904                      Skoda SuperB 2.0 TDI Prestige   \n",
      "941                     Opel Crossland 1.2 T Essential   \n",
      "178                 Fiat Doblo Combi 1.6 Multijet Easy   \n",
      "932   Volkswagen Passat 1.6 TDi BlueMotion Comfortline   \n",
      "377                      Skoda SuperB 2.0 TDI Prestige   \n",
      "552                Fiat Fiorino Combi 1.3 Multijet Pop   \n",
      "756                            Kia Sorento 2.5 CRDi EX   \n",
      "580              Renault Clio 0.9 TCe Sport Tourer Joy   \n",
      "911              Volkswagen Tiguan 1.4 TSI Sport&Style   \n",
      "1490                                     Tofaş Doğan L   \n",
      "81                    Opel Corsa 1.2 Twinport Essentia   \n",
      "436                        Mercedes - Benz E 220 D AMG   \n",
      "31               Fiat Doblo Combi 1.6 Multijet Dynamic   \n",
      "1365                      Hyundai Tucson 1.6 GDi Elite   \n",
      "1347                        BMW 5 Serisi 520i Standart   \n",
      "1292                              Seat Ibiza 1.4 Style   \n",
      "571                      Dacia Sandero 1.5 dCi Stepway   \n",
      "1169               Ford Transit Courier 1.5 TDCi Trend   \n",
      "969                            BMW 5 Serisi 520d Sport   \n",
      "1067               Honda Civic 1.6 i-VTEC ECO Elegance   \n",
      "4                          Renault Captur 1.5 dCi Icon   \n",
      "202                     Skoda Octavia 1.6 TDI Style CR   \n",
      "531                     Audi A3 Sedan 1.6 TDI Ambiente   \n",
      "13            Renault Clio 1.5 dCi Grandtour Executive   \n",
      "1359   Volkswagen Golf 1.6 TDi BlueMotion Midline Plus   \n",
      "609                             Opel Astra 1.4 Classic   \n",
      "1506                        MINI Countryman E Favoured   \n",
      "1235              Fiat Doblo Combi 1.3 Multijet Premio   \n",
      "1402       Ford Tourneo Courier 1.6 TDCi Journey Trend   \n",
      "537                         Peugeot 301 1.6 HDi Active   \n",
      "126              Renault Clio 0.9 TCe Sport Tourer Joy   \n",
      "117                      Dacia Sandero 1.5 dCi Stepway   \n",
      "460                       Mercedes - Benz Axor 1840 LS   \n",
      "23      Volkswagen Golf 1.6 TDi BlueMotion Comfortline   \n",
      "806                   Mercedes - Benz EQB 250 AMG Plus   \n",
      "185                        Ford Focus 1.5 TDCi Trend X   \n",
      "479                     Peugeot 301 1.6 BlueHDI Active   \n",
      "698                         Ford Kuga 1.5 TDCi ST Line   \n",
      "1210                        Nissan Juke 1.6 Sport Pack   \n",
      "946                       Opel Combo 1.5 CDTI Ultimate   \n",
      "\n",
      "                                            model_detay  model_yili    fiyat  \\\n",
      "889   Galeriden Renault Megane 1.5 dCi Touch Plus 20...        2015   667500   \n",
      "1186  2021 BOYASIZ HATASIZ SEAT ARONA 1.0 EcoTSI FR ...        2021  1259000   \n",
      "1496  VSB GRUP 'dan 2019 MODEL İHSANTREYLER 13.60 KU...        2019   500000   \n",
      "956             Sahibinden Hatasız 71.000km’de emsalsiz        2012   724500   \n",
      "1026  CİTROEN C3 AİRCROSS 1.2 PURTECH SHİNE HATASIZ ...        2023  1303500   \n",
      "954   Sahibinden Fiat Egea 1.6 Multijet Lounge 2016 ...        2016   670000   \n",
      "110   AKTÜRK'TEN HATASIZ 2017 NİSSAN QASHGAİ 1.5 DCI...        2017  1250000   \n",
      "607   BOYASIZ OTOMATİK SANRUF DERİ BÜYÜK EKRAN EMSAL...        2011   690000   \n",
      "1343  HATASIZ DEĞİŞENSİZ AUDİ A3 1.4 TFSI EMSALSİZ T...        2015  1139000   \n",
      "851      OSCAR'dan DÜŞÜK KM DEĞİŞENSİZ TİGUAN 4 EMİTİON        2011   865000   \n",
      "904   2014 DERİ KOLTUK SOĞUTMA 4 KOLTUK ISITMA ANAHT...        2014  1150000   \n",
      "941   2023 OPEL Crossland 1.2 T** 24 Bin Kilometre* ...        2023  1179750   \n",
      "178   2019 MODEL HATASIZ BOYASIZ 1.6 MULTIJET 105 HP...        2019   675000   \n",
      "932   ORTAKÖY OTOMOTİVDEN 150 BİN KM HATASIZ BOYASIZ...        2011  1025000   \n",
      "377   2014 DERİ KOLTUK SOĞUTMA 4 KOLTUK ISITMA ANAHT...        2014  1150000   \n",
      "552                              MİL MOTORS'TAN FİORİNO        2023   699000   \n",
      "756   Galeriden Kia Sorento 2.5 CRDi EX 2005 Model İ...        2005   420000   \n",
      "580   BERŞAH 2019 0.9TCE CLİO SW JOY HATASIZ-BOYASIZ...        2019   729000   \n",
      "911      OSCAR'dan DÜŞÜK KM DEĞİŞENSİZ TİGUAN 4 EMİTİON        2011   865000   \n",
      "1490  1992 DOĞAN L - 1.6 / %50 PEŞİN KALANA VADE - K...        1992   145000   \n",
      "81                                      2009 Opel Corsa        2009   455000   \n",
      "436   2017'E.220d AMG 4.MATİC HATASIZ BOYASIZ COMAND...        2017  3480000   \n",
      "31    Galeriden Fiat Doblo Combi 1.6 Multijet Dynami...        2010   379000   \n",
      "1365  VERA OTOMOTİV'den 2018 HYUNDAİ TUCSON HATASIZ ...        2018  1399000   \n",
      "1347                ZEY/MİR DEN HASTASINA KIYMET BİLENE        1996   349000   \n",
      "1292  2013 BOYASIZ SEAT IBİZA 1.4 STYLE CAM TAVANLI ...        2013   765000   \n",
      "571                 HATASIZ YENİ KASA 66.000 KM STEPWAY        2017   845000   \n",
      "1169  %20 FATURALI 2023 MDL TRANSİT COURİER 50 BİN K...        2023   549999   \n",
      "969      Sahibinden BMW 5 Serisi 520d MSport 2009 Model        2009  1099000   \n",
      "1067  %20 PEŞİNAT 12 18 24 36 AY SENET HATASIZ BOYAS...        2017  1149750   \n",
      "4     CAPTUR 2017 1.5 DCİ EDC ICON 36.BİN KM''DE HAT...        2017  1179900   \n",
      "202   TUĞRA/2015/1.6 TDI/DSG/STYLE/164.000 KM.DE/1,5...        2015   985000   \n",
      "531   Galeriden Audi A3 Sedan 1.6 TDI sportline 2016...        2016  1280000   \n",
      "13    Sahibinden Renault Clio 1.5 dCi Grandtour 20. ...        2011   570000   \n",
      "1359  HATASIZ BOYASIZ DEĞİŞENSİZ TRAMERSİZ GOLF 7 20...        2013   770000   \n",
      "609   AUTO SFG'DEN BAYRAM FIRSATI TAKSİT SEÇENEKLİ L...        2005   269000   \n",
      "1506  2024 MİNİ COUTRYMAN E FAVOURED -HATASIZ-BOYASI...        2024  2380000   \n",
      "1235  2014 YENİ MUAYENELİ MOTOR SANZUMAN ON NUMARA T...        2014   399000   \n",
      "1402  OTOMOBİL RUHSATLI 2016 FORD TOURNEO CORİER HAT...        2016   680000   \n",
      "537                      ÖZDEMİR MOTORS DAN PEUGEOT 301        2016   540000   \n",
      "126   BERŞAH 2019 0.9TCE CLİO SW JOY HATASIZ-BOYASIZ...        2019   729000   \n",
      "117                 HATASIZ YENİ KASA 66.000 KM STEPWAY        2017   845000   \n",
      "460   Sahibinden Mercedes - Benz Axor 1840 LS roterd...        2012  2100000   \n",
      "23    İLK EL YETKİLİ SERVİS BAKIMLI 1.6 DİZEL OTOMAT...        2015   970000   \n",
      "806   Sahibinden Mercedes - Benz EQB 250 AMG Plus 20...        2024  2500000   \n",
      "185   2021 MODEL HATASIZ 1.5 TDCI TRENDX OTOMATİK FOCUS        2021  1195000   \n",
      "479   Sahibinden Peugeot 301 1.6 BlueHDI Active 2018...        2018   630000   \n",
      "698   HATASIZ BOYASIZ DEĞİŞENSİZ HASAR KAYITSIZ K.KA...        2017  1405000   \n",
      "1210  ASLAN'DAN HATASIZ DEĞİŞENSİZ DÜŞÜK KM NİSSAN JUKE        2011   685000   \n",
      "946   Galeriden Opel Combo 1.5 CDTI Ultimate 2022 Mo...        2022  1120000   \n",
      "\n",
      "               sehir           ilce   ilan_turu      tip       marka  \\\n",
      "889        Şanlıurfa        Siverek   galeriden  satilik     renault   \n",
      "1186           Konya        Karatay   galeriden  satilik        seat   \n",
      "1496          Ankara        Gölbaşı   galeriden  satilik      ticari   \n",
      "956       Diyarbakır         Bağlar  sahibinden  satilik     renault   \n",
      "1026        İstanbul       Bağcılar   galeriden  satilik     citroen   \n",
      "954          Malatya     Battalgazi  sahibinden  satilik        fiat   \n",
      "110          Kocaeli        Derince   galeriden  satilik      nissan   \n",
      "607             Ordu      Altınordu   galeriden  satilik     renault   \n",
      "1343           İzmir       Gaziemir   galeriden  satilik        audi   \n",
      "851         Tekirdağ      Çerkezköy   galeriden  satilik  volkswagen   \n",
      "904            İzmir       Gaziemir   galeriden  satilik       skoda   \n",
      "941         İstanbul     Eyüpsultan   galeriden  satilik        opel   \n",
      "178           Elazığ         Merkez   galeriden  satilik        fiat   \n",
      "932          Aksaray        Ortaköy   galeriden  satilik  volkswagen   \n",
      "377            İzmir       Gaziemir   galeriden  satilik       skoda   \n",
      "552            Bursa        Nilüfer   galeriden  satilik        fiat   \n",
      "756         İstanbul   Küçükçekmece   galeriden  satilik         kia   \n",
      "580           Ankara         Akyurt   galeriden  satilik     renault   \n",
      "911         Tekirdağ      Çerkezköy   galeriden  satilik  volkswagen   \n",
      "1490          Ankara       Altındağ   galeriden  satilik       tofas   \n",
      "81            Ankara  Kahramankazan   galeriden  satilik        opel   \n",
      "436           Ankara         Akyurt   galeriden  satilik    mercedes   \n",
      "31           Antalya      Muratpaşa   galeriden  satilik        fiat   \n",
      "1365           Düzce         Merkez   galeriden  satilik     hyundai   \n",
      "1347          Ankara         Sincan   galeriden  satilik         bmw   \n",
      "1292          Ankara         Akyurt   galeriden  satilik        seat   \n",
      "571            İzmir       Gaziemir   galeriden  satilik       dacia   \n",
      "1169         Kayseri      Kocasinan   galeriden  satilik        ford   \n",
      "969         İstanbul        Esenler  sahibinden  satilik         bmw   \n",
      "1067        İstanbul       Ümraniye   galeriden  satilik       honda   \n",
      "4            Sakarya       Serdivan   galeriden  satilik     renault   \n",
      "202   Afyonkarahisar         Merkez   galeriden  satilik       skoda   \n",
      "531            Adana         Seyhan   galeriden  satilik        audi   \n",
      "13             İzmir        Bornova  sahibinden  satilik     renault   \n",
      "1359           Adana        Sarıçam   galeriden  satilik  volkswagen   \n",
      "609         İstanbul       Bağcılar   galeriden  satilik        opel   \n",
      "1506          Ankara        Çankaya   galeriden  satilik        mini   \n",
      "1235         Kayseri      Kocasinan   galeriden  satilik        fiat   \n",
      "1402          Samsun     Vezirköprü   galeriden  satilik        ford   \n",
      "537          Kayseri      Kocasinan   galeriden  satilik     peugeot   \n",
      "126           Ankara         Akyurt   galeriden  satilik     renault   \n",
      "117            İzmir       Gaziemir   galeriden  satilik       dacia   \n",
      "460          Denizli       Sarayköy  sahibinden  satilik    mercedes   \n",
      "23            Elazığ         Merkez   galeriden  satilik  volkswagen   \n",
      "806         İstanbul     Beylikdüzü  sahibinden  satilik    mercedes   \n",
      "185           Elazığ         Merkez   galeriden  satilik        ford   \n",
      "479         İstanbul       Esenyurt  sahibinden  satilik     peugeot   \n",
      "698         Tekirdağ      Çerkezköy   galeriden  satilik        ford   \n",
      "1210         Isparta  Şarkikaraağaç   galeriden  satilik      nissan   \n",
      "946          Antalya      Muratpaşa   galeriden  satilik        opel   \n",
      "\n",
      "      motor_hacmi  motor_tipi     donanim  \n",
      "889           1.5         dci       touch  \n",
      "1186          1.0      ecotsi          fr  \n",
      "1496   dorse.kuru         yuk     kapakli  \n",
      "956           1.5         dci       touch  \n",
      "1026   aircross.1           2    puretech  \n",
      "954           1.6    multijet      lounge  \n",
      "110           1.5         dci      design  \n",
      "607           1.5         dci   privilege  \n",
      "1343      sedan.1           4        tfsi  \n",
      "851           1.4         tsi       sport  \n",
      "904           2.0         tdi    prestige  \n",
      "941           1.2           t   essential  \n",
      "178       combi.1           6    multijet  \n",
      "932           1.6         tdi  bluemotion  \n",
      "377           2.0         tdi    prestige  \n",
      "552       combi.1           3    multijet  \n",
      "756           2.5        crdi          ex  \n",
      "580           0.9         tce       sport  \n",
      "911           1.4         tsi       sport  \n",
      "1490   bilinmiyor  bilinmiyor  bilinmiyor  \n",
      "81            1.2    twinport    essentia  \n",
      "436         e.220           d         amg  \n",
      "31        combi.1           6    multijet  \n",
      "1365          1.6         gdi       elite  \n",
      "1347  serisi.520i    standart  bilinmiyor  \n",
      "1292          1.4       style  bilinmiyor  \n",
      "571           1.5         dci     stepway  \n",
      "1169    courier.1           5        tdci  \n",
      "969   serisi.520d       sport  bilinmiyor  \n",
      "1067          1.6           i        vtec  \n",
      "4             1.5         dci        icon  \n",
      "202           1.6         tdi       style  \n",
      "531       sedan.1           6         tdi  \n",
      "13            1.5         dci   grandtour  \n",
      "1359          1.6         tdi  bluemotion  \n",
      "609           1.4     classic  bilinmiyor  \n",
      "1506   e.favoured  bilinmiyor  bilinmiyor  \n",
      "1235      combi.1           3    multijet  \n",
      "1402    courier.1           6        tdci  \n",
      "537           1.6         hdi      active  \n",
      "126           0.9         tce       sport  \n",
      "117           1.5         dci     stepway  \n",
      "460     axor.1840          ls  bilinmiyor  \n",
      "23            1.6         tdi  bluemotion  \n",
      "806       eqb.250         amg        plus  \n",
      "185           1.5        tdci       trend  \n",
      "479           1.6     bluehdi      active  \n",
      "698           1.5        tdci          st  \n",
      "1210          1.6       sport        pack  \n",
      "946           1.5        cdti    ultimate  \n"
     ]
    }
   ],
   "source": [
    "pd.set_option(\"display.max_columns\", None)  # Tüm sütunlar görünsün\n",
    "print(df.sample(50))\n"
   ]
  },
  {
   "cell_type": "code",
   "execution_count": 225,
   "id": "48b02636",
   "metadata": {},
   "outputs": [],
   "source": [
    "df.to_csv(\"temizlenmis_arac_verisi.csv\", index=False)"
   ]
  }
 ],
 "metadata": {
  "kernelspec": {
   "display_name": "Python 3",
   "language": "python",
   "name": "python3"
  },
  "language_info": {
   "codemirror_mode": {
    "name": "ipython",
    "version": 3
   },
   "file_extension": ".py",
   "mimetype": "text/x-python",
   "name": "python",
   "nbconvert_exporter": "python",
   "pygments_lexer": "ipython3",
   "version": "3.8.7"
  }
 },
 "nbformat": 4,
 "nbformat_minor": 5
}
