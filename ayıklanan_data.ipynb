{
 "cells": [
  {
   "cell_type": "markdown",
   "id": "23a4790b",
   "metadata": {},
   "source": [
    "#İkinci El Araç Tahmin uYGULAMASI"
   ]
  },
  {
   "cell_type": "code",
   "execution_count": 30,
   "id": "e03fd952",
   "metadata": {},
   "outputs": [],
   "source": [
    "import os\n",
    "import numpy as np\n",
    "import pandas as pd"
   ]
  },
  {
   "cell_type": "code",
   "execution_count": 31,
   "id": "3dbe53b7",
   "metadata": {},
   "outputs": [],
   "source": [
    "df = pd.read_csv(\"kudet_arac_degerleme/data/arabamcom_merged.csv\")"
   ]
  },
  {
   "cell_type": "code",
   "execution_count": 32,
   "id": "5c52eb10",
   "metadata": {},
   "outputs": [
    {
     "name": "stdout",
     "output_type": "stream",
     "text": [
      "<class 'pandas.core.frame.DataFrame'>\n",
      "RangeIndex: 1565 entries, 0 to 1564\n",
      "Data columns (total 10 columns):\n",
      " #   Column                           Non-Null Count  Dtype \n",
      "---  ------                           --------------  ----- \n",
      " 0   smallest-text-minus href         1565 non-null   object\n",
      " 1   listing-image src                1565 non-null   object\n",
      " 2   listing-text-new                 1565 non-null   object\n",
      " 3   listing-text-new 2               1565 non-null   object\n",
      " 4   fade-out-content-wrapper         1565 non-null   int64 \n",
      " 5   fade-out-content-wrapper href 2  1441 non-null   object\n",
      " 6   db                               1565 non-null   object\n",
      " 7   fade-out-content-wrapper 2       1180 non-null   object\n",
      " 8   fade-out-content-wrapper 3       1562 non-null   object\n",
      " 9   fade-out-content-wrapper 4       1562 non-null   object\n",
      "dtypes: int64(1), object(9)\n",
      "memory usage: 122.4+ KB\n",
      "None\n"
     ]
    }
   ],
   "source": [
    "print(df.info())"
   ]
  },
  {
   "cell_type": "code",
   "execution_count": 33,
   "id": "bdb84cd0",
   "metadata": {},
   "outputs": [
    {
     "name": "stdout",
     "output_type": "stream",
     "text": [
      "Index(['smallest-text-minus href', 'listing-image src', 'listing-text-new',\n",
      "       'listing-text-new 2', 'fade-out-content-wrapper',\n",
      "       'fade-out-content-wrapper href 2', 'db', 'fade-out-content-wrapper 2',\n",
      "       'fade-out-content-wrapper 3', 'fade-out-content-wrapper 4'],\n",
      "      dtype='object')\n"
     ]
    }
   ],
   "source": [
    "print(df.columns)"
   ]
  },
  {
   "cell_type": "code",
   "execution_count": 34,
   "id": "1a1d1cd0",
   "metadata": {},
   "outputs": [],
   "source": [
    "# Gereksiz sütunları sil\n",
    "df.drop(columns=[\n",
    "    'listing-image src',\n",
    "    'fade-out-content-wrapper href 2',\n",
    "    'fade-out-content-wrapper 2'\n",
    "], inplace=True, errors='ignore')\n",
    "\n",
    "# Sütunları yeniden adlandır\n",
    "df.rename(columns={\n",
    "    'smallest-text-minus href': 'ilan_linki',\n",
    "    'listing-text-new': 'model',\n",
    "    'listing-text-new 2': 'model_detay',\n",
    "    'fade-out-content-wrapper': 'model_yili',\n",
    "    'db': 'fiyat',\n",
    "    'fade-out-content-wrapper 3': 'sehir',\n",
    "    'fade-out-content-wrapper 4': 'ilce'\n",
    "}, inplace=True)\n"
   ]
  },
  {
   "cell_type": "code",
   "execution_count": 35,
   "id": "836bbe35",
   "metadata": {},
   "outputs": [
    {
     "name": "stdout",
     "output_type": "stream",
     "text": [
      "<class 'pandas.core.frame.DataFrame'>\n",
      "RangeIndex: 1565 entries, 0 to 1564\n",
      "Data columns (total 7 columns):\n",
      " #   Column       Non-Null Count  Dtype \n",
      "---  ------       --------------  ----- \n",
      " 0   ilan_linki   1565 non-null   object\n",
      " 1   model        1565 non-null   object\n",
      " 2   model_detay  1565 non-null   object\n",
      " 3   model_yili   1565 non-null   int64 \n",
      " 4   fiyat        1565 non-null   object\n",
      " 5   sehir        1562 non-null   object\n",
      " 6   ilce         1562 non-null   object\n",
      "dtypes: int64(1), object(6)\n",
      "memory usage: 85.7+ KB\n",
      "None\n"
     ]
    }
   ],
   "source": [
    "print(df.info())\n"
   ]
  }
 ],
 "metadata": {
  "kernelspec": {
   "display_name": "Python 3",
   "language": "python",
   "name": "python3"
  },
  "language_info": {
   "codemirror_mode": {
    "name": "ipython",
    "version": 3
   },
   "file_extension": ".py",
   "mimetype": "text/x-python",
   "name": "python",
   "nbconvert_exporter": "python",
   "pygments_lexer": "ipython3",
   "version": "3.8.7"
  }
 },
 "nbformat": 4,
 "nbformat_minor": 5
}
